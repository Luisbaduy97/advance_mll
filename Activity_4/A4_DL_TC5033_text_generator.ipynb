{
 "cells": [
  {
   "cell_type": "markdown",
   "id": "037e89c8",
   "metadata": {},
   "source": [
    "## TC 5033\n",
    "### Text Generation\n",
    "\n",
    "<br>\n",
    "\n",
    "#### Activity 4: Building a Simple LSTM Text Generator using WikiText-2\n",
    "<br>\n",
    "\n",
    "- Objective:\n",
    "    - Gain a fundamental understanding of Long Short-Term Memory (LSTM) networks.\n",
    "    - Develop hands-on experience with sequence data processing and text generation in PyTorch. Given the simplicity of the model, amount of data, and computer resources, the text you generate will not replace ChatGPT, and results must likely will not make a lot of sense. Its only purpose is academic and to understand the text generation using RNNs.\n",
    "    - Enhance code comprehension and documentation skills by commenting on provided starter code.\n",
    "    \n",
    "<br>\n",
    "\n",
    "- Instructions:\n",
    "    - Code Understanding: Begin by thoroughly reading and understanding the code. Comment each section/block of the provided code to demonstrate your understanding. For this, you are encouraged to add cells with experiments to improve your understanding\n",
    "\n",
    "    - Model Overview: The starter code includes an LSTM model setup for sequence data processing. Familiarize yourself with the model architecture and its components. Once you are familiar with the provided model, feel free to change the model to experiment.\n",
    "\n",
    "    - Training Function: Implement a function to train the LSTM model on the WikiText-2 dataset. This function should feed the training data into the model and perform backpropagation. \n",
    "\n",
    "    - Text Generation Function: Create a function that accepts starting text (seed text) and a specified total number of words to generate. The function should use the trained model to generate a continuation of the input text.\n",
    "\n",
    "    - Code Commenting: Ensure that all the provided starter code is well-commented. Explain the purpose and functionality of each section, indicating your understanding.\n",
    "\n",
    "    - Submission: Submit your Jupyter Notebook with all sections completed and commented. Include a markdown cell with the full names of all contributing team members at the beginning of the notebook.\n",
    "    \n",
    "<br>\n",
    "\n",
    "- Evaluation Criteria:\n",
    "    - Code Commenting (60%): The clarity, accuracy, and thoroughness of comments explaining the provided code. You are suggested to use markdown cells for your explanations.\n",
    "\n",
    "    - Training Function Implementation (20%): The correct implementation of the training function, which should effectively train the model.\n",
    "\n",
    "    - Text Generation Functionality (10%): A working function is provided in comments. You are free to use it as long as you make sure to uderstand it, you may as well improve it as you see fit. The minimum expected is to provide comments for the given function. \n",
    "\n",
    "    - Conclusions (10%): Provide some final remarks specifying the differences you notice between this model and the one used  for classification tasks. Also comment on changes you made to the model, hyperparameters, and any other information you consider relevant. Also, please provide 3 examples of generated texts.\n",
    "\n"
   ]
  },
  {
   "cell_type": "markdown",
   "id": "bb2f3333-f7d2-4b9a-92ad-7878d1f3205a",
   "metadata": {},
   "source": [
    "## Imports and Setup\n",
    "\n",
    "This section includes necessary library imports and sets up the computing device (GPU or CPU).\n"
   ]
  },
  {
   "cell_type": "code",
   "execution_count": 10,
   "id": "3eb4b117",
   "metadata": {
    "tags": []
   },
   "outputs": [],
   "source": [
    "import numpy as np\n",
    "#PyTorch libraries\n",
    "import torch\n",
    "import torchtext\n",
    "from torchtext.datasets import WikiText2\n",
    "# Dataloader library\n",
    "from torch.utils.data import DataLoader, TensorDataset\n",
    "from torch.utils.data.dataset import random_split\n",
    "# Libraries to prepare the data\n",
    "from torchtext.data.utils import get_tokenizer\n",
    "from torchtext.vocab import build_vocab_from_iterator\n",
    "from torchtext.data.functional import to_map_style_dataset\n",
    "# neural layers\n",
    "from torch import nn\n",
    "from torch.nn import functional as F\n",
    "import torch.optim as optim\n",
    "from tqdm import tqdm\n",
    "\n",
    "import random"
   ]
  },
  {
   "cell_type": "code",
   "execution_count": 2,
   "id": "6d8ff971",
   "metadata": {
    "tags": []
   },
   "outputs": [],
   "source": [
    "device = 'cuda' if torch.cuda.is_available() else 'cpu'"
   ]
  },
  {
   "cell_type": "markdown",
   "id": "c55efdd3-3ef8-4cc8-9e02-76c33f22abb2",
   "metadata": {
    "tags": []
   },
   "source": [
    "## Data Preparation\n",
    "\n",
    "Here, we load and process the WikiText-2 dataset for training, including tokenization and creating data loaders."
   ]
  },
  {
   "cell_type": "code",
   "execution_count": 3,
   "id": "f3288ce5",
   "metadata": {
    "tags": []
   },
   "outputs": [],
   "source": [
    "train_dataset, val_dataset, test_dataset = WikiText2()"
   ]
  },
  {
   "cell_type": "code",
   "execution_count": 4,
   "id": "fc4c7dbd",
   "metadata": {
    "tags": []
   },
   "outputs": [],
   "source": [
    "tokeniser = get_tokenizer('basic_english')\n",
    "def yield_tokens(data):\n",
    "    for text in data:\n",
    "        yield tokeniser(text)"
   ]
  },
  {
   "cell_type": "code",
   "execution_count": 5,
   "id": "2c2cb068",
   "metadata": {
    "tags": []
   },
   "outputs": [],
   "source": [
    "# Build the vocabulary\n",
    "vocab = build_vocab_from_iterator(yield_tokens(train_dataset), specials=[\"<unk>\", \"<pad>\", \"<bos>\", \"<eos>\"])\n",
    "#set unknown token at position 0\n",
    "vocab.set_default_index(vocab[\"<unk>\"])"
   ]
  },
  {
   "cell_type": "code",
   "execution_count": 6,
   "id": "134b832b",
   "metadata": {
    "tags": []
   },
   "outputs": [],
   "source": [
    "seq_length = 50\n",
    "def data_process(raw_text_iter, seq_length = 50):\n",
    "    data = [torch.tensor(vocab(tokeniser(item)), dtype=torch.long) for item in raw_text_iter]\n",
    "    data = torch.cat(tuple(filter(lambda t: t.numel() > 0, data))) #remove empty tensors\n",
    "#     target_data = torch.cat(d)\n",
    "    return (data[:-(data.size(0)%seq_length)].view(-1, seq_length), \n",
    "            data[1:-(data.size(0)%seq_length-1)].view(-1, seq_length))  \n",
    "\n",
    "# # Create tensors for the training set\n",
    "x_train, y_train = data_process(train_dataset, seq_length)\n",
    "x_val, y_val = data_process(val_dataset, seq_length)\n",
    "x_test, y_test = data_process(test_dataset, seq_length)"
   ]
  },
  {
   "cell_type": "code",
   "execution_count": 7,
   "id": "4b54c04d",
   "metadata": {
    "tags": []
   },
   "outputs": [],
   "source": [
    "# Create TensorDataset objects for DataLoader\n",
    "train_dataset = TensorDataset(x_train, y_train)\n",
    "val_dataset = TensorDataset(x_val, y_val)\n",
    "test_dataset = TensorDataset(x_test, y_test)"
   ]
  },
  {
   "cell_type": "code",
   "execution_count": 8,
   "id": "f4d400fb",
   "metadata": {
    "tags": []
   },
   "outputs": [],
   "source": [
    "batch_size = 64  # choose a batch size that fits your computation resources\n",
    "train_loader = DataLoader(train_dataset, batch_size=batch_size, shuffle=True, drop_last=True)\n",
    "val_loader = DataLoader(val_dataset, batch_size=batch_size, shuffle=True, drop_last=True)\n",
    "test_loader = DataLoader(test_dataset, batch_size=batch_size, shuffle=True, drop_last=True)"
   ]
  },
  {
   "cell_type": "markdown",
   "id": "056038a0-75cf-42f9-ada6-34b8fe45bca7",
   "metadata": {},
   "source": [
    "## LSTM Model\n",
    "\n",
    "Defines an enhanced LSTM model with additional layers and dropout for better performance.\n"
   ]
  },
  {
   "cell_type": "code",
   "execution_count": 9,
   "id": "59c63b01",
   "metadata": {
    "tags": []
   },
   "outputs": [],
   "source": [
    "# Define the LSTM model\n",
    "# Feel free to experiment\n",
    "class LSTMModel(nn.Module):\n",
    "    def __init__(self, vocab_size, embed_size, hidden_size, num_layers):\n",
    "        super(LSTMModel, self).__init__()\n",
    "        self.embeddings = nn.Embedding(vocab_size, embed_size)\n",
    "        self.hidden_size = hidden_size\n",
    "        self.num_layers = num_layers\n",
    "        self.lstm = nn.LSTM(embed_size, hidden_size, num_layers, batch_first=True)\n",
    "        self.fc = nn.Linear(hidden_size, vocab_size)\n",
    "\n",
    "    def forward(self, text, hidden):\n",
    "        embeddings = self.embeddings(text)\n",
    "        output, hidden = self.lstm(embeddings, hidden)\n",
    "        decoded = self.fc(output)\n",
    "        return decoded, hidden\n",
    "\n",
    "    def init_hidden(self, batch_size):\n",
    "\n",
    "        return (torch.zeros(self.num_layers, batch_size, self.hidden_size).to(device),\n",
    "                torch.zeros(self.num_layers, batch_size, self.hidden_size).to(device))\n",
    "\n",
    "\n",
    "\n",
    "vocab_size = len(vocab) # vocabulary size\n",
    "emb_size = 100 # embedding size\n",
    "neurons = 128 # the dimension of the feedforward network model, i.e. # of neurons \n",
    "num_layers = 1 # the number of nn.LSTM layers\n",
    "model = LSTMModel(vocab_size, emb_size, neurons, num_layers)\n"
   ]
  },
  {
   "cell_type": "markdown",
   "id": "a9beafea-d68a-404a-9cb7-4162feb9394f",
   "metadata": {},
   "source": [
    "## Training Function\n",
    "\n",
    "Enhanced training function with gradient clipping and other adjustments for improved model training.\n"
   ]
  },
  {
   "cell_type": "code",
   "execution_count": 14,
   "id": "215eabb9",
   "metadata": {
    "tags": []
   },
   "outputs": [],
   "source": [
    "def train(model, epochs, optimiser):\n",
    "    '''\n",
    "    The following are possible instructions you may want to conside for this function.\n",
    "    This is only a guide and you may change add or remove whatever you consider appropriate\n",
    "    as long as you train your model correctly.\n",
    "        - loop through specified epochs\n",
    "        - loop through dataloader\n",
    "        - don't forget to zero grad!\n",
    "        - place data (both input and target) in device\n",
    "        - init hidden states e.g. hidden = model.init_hidden(batch_size)\n",
    "        - run the model\n",
    "        - compute the cost or loss\n",
    "        - backpropagation\n",
    "        - Update paratemers\n",
    "        - Include print all the information you consider helpful\n",
    "    \n",
    "    '''\n",
    "    model = model.to(device=device)\n",
    "    model.train()\n",
    "\n",
    "    for epoch in range(epochs):\n",
    "        for i, (data, targets) in enumerate((train_loader)):\n",
    "            optimiser.zero_grad()  # Zero out the gradients\n",
    "            data, targets = data.to(device), targets.to(device)  # Move data to the device\n",
    "            hidden = model.init_hidden(batch_size)  # Initialize hidden states\n",
    "            output, _ = model(data, hidden)  # Forward pass\n",
    "            loss = loss_function(output.view(-1, vocab_size), targets.view(-1))  # Compute loss\n",
    "            loss.backward()  # Backpropagation\n",
    "            optimiser.step()  # Update model parameters\n",
    "\n",
    "            if i % 100 == 0:  # Optionally print the loss every 100 batches\n",
    "                print(f\"Epoch {epoch}, Batch {i}, Loss: {loss.item()}\")"
   ]
  },
  {
   "cell_type": "markdown",
   "id": "275d4419-cda3-46be-9ba2-a069405bdb0b",
   "metadata": {},
   "source": [
    "## Text Generation\n",
    "\n",
    "Function to generate text using the trained model, with temperature control for randomness.\n"
   ]
  },
  {
   "cell_type": "code",
   "execution_count": 15,
   "id": "2405e9bf-580d-4fda-b5cb-93a3bdf68aa8",
   "metadata": {
    "tags": []
   },
   "outputs": [],
   "source": [
    "def generate_text(model, start_text, num_words, temperature=1.0):\n",
    "    model.eval()  # Set the model to evaluation mode\n",
    "    words = tokeniser(start_text)\n",
    "    hidden = model.init_hidden(1)\n",
    "    for i in range(0, num_words):\n",
    "        x = torch.tensor([[vocab[word] for word in words[i:]]], dtype=torch.long, device=device)\n",
    "        y_pred, hidden = model(x, hidden)\n",
    "        last_word_logits = y_pred[0][-1]\n",
    "        p = F.softmax(last_word_logits / temperature, dim=0).detach().to(device='cpu').numpy()\n",
    "        word_index = np.random.choice(len(last_word_logits), p=p)\n",
    "        words.append(vocab.lookup_token(word_index))\n",
    "\n",
    "    return ' '.join(words)"
   ]
  },
  {
   "cell_type": "markdown",
   "id": "0fae8ad5-6784-409a-a087-4f99bf56b3d5",
   "metadata": {},
   "source": [
    "## Training and Generating Text\n",
    "\n",
    "Train the model with the new settings and then use it to generate text.\n"
   ]
  },
  {
   "cell_type": "code",
   "execution_count": 16,
   "id": "b7bd5f24-c72f-442a-9f7e-1a31d81b0182",
   "metadata": {
    "tags": []
   },
   "outputs": [
    {
     "name": "stdout",
     "output_type": "stream",
     "text": [
      "Epoch 0, Batch 0, Loss: 10.2792329788208\n",
      "Epoch 0, Batch 100, Loss: 7.075305938720703\n",
      "Epoch 0, Batch 200, Loss: 6.9239501953125\n",
      "Epoch 0, Batch 300, Loss: 6.8365559577941895\n",
      "Epoch 0, Batch 400, Loss: 6.853389263153076\n",
      "Epoch 0, Batch 500, Loss: 6.648653030395508\n",
      "Epoch 0, Batch 600, Loss: 6.599898815155029\n",
      "Epoch 1, Batch 0, Loss: 6.739708423614502\n",
      "Epoch 1, Batch 100, Loss: 6.334718227386475\n",
      "Epoch 1, Batch 200, Loss: 6.482001304626465\n",
      "Epoch 1, Batch 300, Loss: 6.454785346984863\n",
      "Epoch 1, Batch 400, Loss: 6.297735691070557\n",
      "Epoch 1, Batch 500, Loss: 6.397555351257324\n",
      "Epoch 1, Batch 600, Loss: 6.324527740478516\n",
      "Epoch 2, Batch 0, Loss: 6.328923225402832\n",
      "Epoch 2, Batch 100, Loss: 6.242600917816162\n",
      "Epoch 2, Batch 200, Loss: 6.28380012512207\n",
      "Epoch 2, Batch 300, Loss: 6.239938735961914\n",
      "Epoch 2, Batch 400, Loss: 6.106464862823486\n",
      "Epoch 2, Batch 500, Loss: 6.0853447914123535\n",
      "Epoch 2, Batch 600, Loss: 6.1333909034729\n",
      "Epoch 3, Batch 0, Loss: 6.0497941970825195\n",
      "Epoch 3, Batch 100, Loss: 5.983999729156494\n",
      "Epoch 3, Batch 200, Loss: 6.000361442565918\n",
      "Epoch 3, Batch 300, Loss: 5.928003311157227\n",
      "Epoch 3, Batch 400, Loss: 6.072414398193359\n",
      "Epoch 3, Batch 500, Loss: 6.069645404815674\n",
      "Epoch 3, Batch 600, Loss: 6.056520938873291\n",
      "Epoch 4, Batch 0, Loss: 5.8901591300964355\n",
      "Epoch 4, Batch 100, Loss: 6.043478488922119\n",
      "Epoch 4, Batch 200, Loss: 6.079257011413574\n",
      "Epoch 4, Batch 300, Loss: 5.856395721435547\n",
      "Epoch 4, Batch 400, Loss: 5.791778087615967\n",
      "Epoch 4, Batch 500, Loss: 5.946779727935791\n",
      "Epoch 4, Batch 600, Loss: 5.75755500793457\n"
     ]
    }
   ],
   "source": [
    "# Call the train function\n",
    "loss_function = nn.CrossEntropyLoss()\n",
    "lr = 0.0005\n",
    "epochs = 5\n",
    "optimiser = optim.Adam(model.parameters(), lr=lr)\n",
    "train(model, epochs, optimiser)"
   ]
  },
  {
   "cell_type": "code",
   "execution_count": 17,
   "id": "d2884543",
   "metadata": {
    "tags": []
   },
   "outputs": [
    {
     "name": "stdout",
     "output_type": "stream",
     "text": [
      "i like the first year at marks of number of the media <unk> at 1902 and <unk> square <unk> , <unk> back to cecil <unk> ' s statements and top ran to mean after the cellar memorial trees @-@ do switched of its october ) sources he had the anupong ' s 8 @-@ homeland was nurse in the previous of the wanderers . although the word of barrow for the the event ' van most throne to support divides that john turned critical hamisah ' s trondheim , like it was . todd ' s name , . the raf section\n"
     ]
    }
   ],
   "source": [
    "# Generate some text\n",
    "print(generate_text(model, start_text=\"I like\", num_words=100))"
   ]
  },
  {
   "cell_type": "markdown",
   "id": "af0a87ee-2d5b-4585-a12d-bc70e765ae10",
   "metadata": {},
   "source": [
    "## Enhanced LSTM Model\n",
    "\n",
    "This part of the code defines an improved version of the LSTM model\n"
   ]
  },
  {
   "cell_type": "code",
   "execution_count": 18,
   "id": "4a16ca9c-815b-4d0f-97a7-442a482622f0",
   "metadata": {
    "tags": []
   },
   "outputs": [],
   "source": [
    "class EnhancedLSTMModel(nn.Module):\n",
    "    def __init__(self, vocab_size, embed_size, hidden_size, num_layers, dropout=0.5):\n",
    "        super(EnhancedLSTMModel, self).__init__()\n",
    "        self.embeddings = nn.Embedding(vocab_size, embed_size)\n",
    "        self.hidden_size = hidden_size\n",
    "        self.num_layers = num_layers\n",
    "        # Adding a second LSTM layer and dropout for regularization\n",
    "        self.lstm = nn.LSTM(embed_size, hidden_size, num_layers, batch_first=True, dropout=dropout)\n",
    "        self.fc = nn.Linear(hidden_size, vocab_size)\n",
    "\n",
    "    def forward(self, text, hidden):\n",
    "        embeddings = self.embeddings(text)\n",
    "        output, hidden = self.lstm(embeddings, hidden)\n",
    "        decoded = self.fc(output)\n",
    "        return decoded, hidden\n",
    "\n",
    "    def init_hidden(self, batch_size):\n",
    "        return (torch.zeros(self.num_layers, batch_size, self.hidden_size).to(device),\n",
    "                torch.zeros(self.num_layers, batch_size, self.hidden_size).to(device))\n",
    "\n",
    "# Update model instantiation\n",
    "neurons = 256  # Increased number of neurons\n",
    "num_layers = 2  # Increased number of layers\n",
    "dropout = 0.3  # Dropout for regularization\n",
    "model = EnhancedLSTMModel(vocab_size, emb_size, neurons, num_layers, dropout)\n"
   ]
  },
  {
   "cell_type": "code",
   "execution_count": 19,
   "id": "78eabe9e",
   "metadata": {
    "tags": []
   },
   "outputs": [
    {
     "name": "stdout",
     "output_type": "stream",
     "text": [
      "Epoch 0, Batch 0, Loss: 10.263537406921387\n",
      "Epoch 0, Batch 100, Loss: 7.071488857269287\n",
      "Epoch 0, Batch 200, Loss: 7.063595771789551\n",
      "Epoch 0, Batch 300, Loss: 7.0021233558654785\n",
      "Epoch 0, Batch 400, Loss: 6.874186992645264\n",
      "Epoch 0, Batch 500, Loss: 6.979156970977783\n",
      "Epoch 0, Batch 600, Loss: 6.7003397941589355\n",
      "Epoch 1, Batch 0, Loss: 6.743571758270264\n",
      "Epoch 1, Batch 100, Loss: 6.649552822113037\n",
      "Epoch 1, Batch 200, Loss: 6.5979204177856445\n",
      "Epoch 1, Batch 300, Loss: 6.443353652954102\n",
      "Epoch 1, Batch 400, Loss: 6.425105094909668\n",
      "Epoch 1, Batch 500, Loss: 6.459552764892578\n",
      "Epoch 1, Batch 600, Loss: 6.4415788650512695\n",
      "Epoch 2, Batch 0, Loss: 6.493104457855225\n",
      "Epoch 2, Batch 100, Loss: 6.209478855133057\n",
      "Epoch 2, Batch 200, Loss: 6.213062763214111\n",
      "Epoch 2, Batch 300, Loss: 6.160090446472168\n",
      "Epoch 2, Batch 400, Loss: 6.154078960418701\n",
      "Epoch 2, Batch 500, Loss: 6.083623886108398\n",
      "Epoch 2, Batch 600, Loss: 6.173925876617432\n",
      "Epoch 3, Batch 0, Loss: 6.091605186462402\n",
      "Epoch 3, Batch 100, Loss: 6.012382984161377\n",
      "Epoch 3, Batch 200, Loss: 6.012028694152832\n",
      "Epoch 3, Batch 300, Loss: 5.9540228843688965\n",
      "Epoch 3, Batch 400, Loss: 6.0164475440979\n",
      "Epoch 3, Batch 500, Loss: 5.91488790512085\n",
      "Epoch 3, Batch 600, Loss: 5.981869697570801\n",
      "Epoch 4, Batch 0, Loss: 5.7709736824035645\n",
      "Epoch 4, Batch 100, Loss: 5.786218643188477\n",
      "Epoch 4, Batch 200, Loss: 5.8257975578308105\n",
      "Epoch 4, Batch 300, Loss: 5.867036819458008\n",
      "Epoch 4, Batch 400, Loss: 5.7783684730529785\n",
      "Epoch 4, Batch 500, Loss: 5.7539963722229\n",
      "Epoch 4, Batch 600, Loss: 5.78463888168335\n",
      "Epoch 5, Batch 0, Loss: 5.734793186187744\n",
      "Epoch 5, Batch 100, Loss: 5.740253448486328\n",
      "Epoch 5, Batch 200, Loss: 5.664086818695068\n",
      "Epoch 5, Batch 300, Loss: 5.7068095207214355\n",
      "Epoch 5, Batch 400, Loss: 5.599090099334717\n",
      "Epoch 5, Batch 500, Loss: 5.633122444152832\n",
      "Epoch 5, Batch 600, Loss: 5.591158866882324\n",
      "Epoch 6, Batch 0, Loss: 5.553679943084717\n",
      "Epoch 6, Batch 100, Loss: 5.474982261657715\n",
      "Epoch 6, Batch 200, Loss: 5.607104301452637\n",
      "Epoch 6, Batch 300, Loss: 5.5502471923828125\n",
      "Epoch 6, Batch 400, Loss: 5.62060546875\n",
      "Epoch 6, Batch 500, Loss: 5.521307945251465\n",
      "Epoch 6, Batch 600, Loss: 5.423013687133789\n",
      "Epoch 7, Batch 0, Loss: 5.294430732727051\n",
      "Epoch 7, Batch 100, Loss: 5.400162220001221\n",
      "Epoch 7, Batch 200, Loss: 5.4491705894470215\n",
      "Epoch 7, Batch 300, Loss: 5.449820041656494\n",
      "Epoch 7, Batch 400, Loss: 5.423383712768555\n",
      "Epoch 7, Batch 500, Loss: 5.566308498382568\n",
      "Epoch 7, Batch 600, Loss: 5.385580539703369\n",
      "Epoch 8, Batch 0, Loss: 5.279273509979248\n",
      "Epoch 8, Batch 100, Loss: 5.2404465675354\n",
      "Epoch 8, Batch 200, Loss: 5.367266654968262\n",
      "Epoch 8, Batch 300, Loss: 5.382693290710449\n",
      "Epoch 8, Batch 400, Loss: 5.335941314697266\n",
      "Epoch 8, Batch 500, Loss: 5.2049970626831055\n",
      "Epoch 8, Batch 600, Loss: 5.161683559417725\n",
      "Epoch 9, Batch 0, Loss: 5.1658806800842285\n",
      "Epoch 9, Batch 100, Loss: 5.160518169403076\n",
      "Epoch 9, Batch 200, Loss: 5.023814678192139\n",
      "Epoch 9, Batch 300, Loss: 5.1462788581848145\n",
      "Epoch 9, Batch 400, Loss: 5.1427788734436035\n",
      "Epoch 9, Batch 500, Loss: 5.1433587074279785\n",
      "Epoch 9, Batch 600, Loss: 5.248219013214111\n"
     ]
    }
   ],
   "source": [
    "def enhanced_train(model, epochs, optimiser, clip=1):\n",
    "    model = model.to(device=device)\n",
    "    model.train()\n",
    "    \n",
    "    for epoch in range(epochs):\n",
    "        for i, (data, targets) in enumerate((train_loader)):\n",
    "            optimiser.zero_grad()\n",
    "            data, targets = data.to(device), targets.to(device)\n",
    "            hidden = model.init_hidden(batch_size)\n",
    "            output, _ = model(data, hidden)\n",
    "            loss = loss_function(output.view(-1, vocab_size), targets.view(-1))\n",
    "            loss.backward()\n",
    "            # Implement gradient clipping\n",
    "            torch.nn.utils.clip_grad_norm_(model.parameters(), clip)\n",
    "            optimiser.step()\n",
    "\n",
    "            if i % 100 == 0:\n",
    "                print(f\"Epoch {epoch}, Batch {i}, Loss: {loss.item()}\")\n",
    "\n",
    "# Adjust the learning rate\n",
    "lr = 0.001  # Slightly increased learning rate\n",
    "epochs = 10  # More training epochs\n",
    "optimiser = optim.Adam(model.parameters(), lr=lr)\n",
    "enhanced_train(model, epochs, optimiser)\n"
   ]
  },
  {
   "cell_type": "code",
   "execution_count": 20,
   "id": "1cb126a2",
   "metadata": {
    "tags": []
   },
   "outputs": [],
   "source": [
    "def generate_text(model, start_text, num_words, temperature=1.0):\n",
    "    model.eval()\n",
    "    words = tokeniser(start_text)\n",
    "    hidden = model.init_hidden(1)\n",
    "    for i in range(0, num_words):\n",
    "        x = torch.tensor([[vocab[word] for word in words[i:]]], dtype=torch.long, device=device)\n",
    "        y_pred, hidden = model(x, hidden)\n",
    "        last_word_logits = y_pred[0][-1]\n",
    "        p = F.softmax(last_word_logits / temperature, dim=0).detach().to(device='cpu').numpy()\n",
    "        word_index = np.random.choice(len(last_word_logits), p=p)\n",
    "        words.append(vocab.lookup_token(word_index))\n",
    "\n",
    "    return ' '.join(words)\n"
   ]
  },
  {
   "cell_type": "code",
   "execution_count": 21,
   "id": "6de373d8",
   "metadata": {
    "tags": []
   },
   "outputs": [
    {
     "name": "stdout",
     "output_type": "stream",
     "text": [
      "i like humpty <unk> . according to thee , leonard ( flourishing ) [ that ] ] took as dying . = = chapter = = = = bloody musical life the internal candidate of study = = <unk> cameras = = 35 – 10 million times the australian season for best episode . reviewer was major , then , and his first 100 wins lost against the final postseason , and a jimmy career program in the older de gracie force l @-@ priest , jin jackson , he wrote that a charity and a <unk> of merchandising , titled <unk>\n"
     ]
    }
   ],
   "source": [
    "print(generate_text(model, start_text=\"I like\", num_words=100))"
   ]
  },
  {
   "cell_type": "code",
   "execution_count": null,
   "id": "68d82438",
   "metadata": {},
   "outputs": [],
   "source": []
  }
 ],
 "metadata": {
  "kernelspec": {
   "display_name": "Python 3 (ipykernel)",
   "language": "python",
   "name": "python3"
  },
  "language_info": {
   "codemirror_mode": {
    "name": "ipython",
    "version": 3
   },
   "file_extension": ".py",
   "mimetype": "text/x-python",
   "name": "python",
   "nbconvert_exporter": "python",
   "pygments_lexer": "ipython3",
   "version": "3.11.4"
  },
  "varInspector": {
   "cols": {
    "lenName": 16,
    "lenType": 16,
    "lenVar": 40
   },
   "kernels_config": {
    "python": {
     "delete_cmd_postfix": "",
     "delete_cmd_prefix": "del ",
     "library": "var_list.py",
     "varRefreshCmd": "print(var_dic_list())"
    },
    "r": {
     "delete_cmd_postfix": ") ",
     "delete_cmd_prefix": "rm(",
     "library": "var_list.r",
     "varRefreshCmd": "cat(var_dic_list()) "
    }
   },
   "types_to_exclude": [
    "module",
    "function",
    "builtin_function_or_method",
    "instance",
    "_Feature"
   ],
   "window_display": false
  }
 },
 "nbformat": 4,
 "nbformat_minor": 5
}
