{
 "cells": [
  {
   "cell_type": "markdown",
   "id": "037e89c8",
   "metadata": {},
   "source": [
    "## TC 5033\n",
    "### Text Generation\n",
    "\n",
    "<br>\n",
    "\n",
    "#### Activity 4: Building a Simple LSTM Text Generator using WikiText-2\n",
    "<br>\n",
    "\n",
    "\n",
    "## Team #\n",
    "#### - Elmer Payro Costilla -           A01014943\n",
    "#### - Christopher Valdez Cantú -      A01793549\n",
    "#### - José Francisco Muñoz del Ángel - A01794174\n",
    "#### - Luis José Navarrete Baduy -     A01793919\n",
    "\n",
    "<br>\n",
    "\n",
    "- Objective:\n",
    "    - Gain a fundamental understanding of Long Short-Term Memory (LSTM) networks.\n",
    "    - Develop hands-on experience with sequence data processing and text generation in PyTorch. Given the simplicity of the model, amount of data, and computer resources, the text you generate will not replace ChatGPT, and results must likely will not make a lot of sense. Its only purpose is academic and to understand the text generation using RNNs.\n",
    "    - Enhance code comprehension and documentation skills by commenting on provided starter code.\n",
    "    \n",
    "<br>\n",
    "\n",
    "- Instructions:\n",
    "    - Code Understanding: Begin by thoroughly reading and understanding the code. Comment each section/block of the provided code to demonstrate your understanding. For this, you are encouraged to add cells with experiments to improve your understanding\n",
    "\n",
    "    - Model Overview: The starter code includes an LSTM model setup for sequence data processing. Familiarize yourself with the model architecture and its components. Once you are familiar with the provided model, feel free to change the model to experiment.\n",
    "\n",
    "    - Training Function: Implement a function to train the LSTM model on the WikiText-2 dataset. This function should feed the training data into the model and perform backpropagation. \n",
    "\n",
    "    - Text Generation Function: Create a function that accepts starting text (seed text) and a specified total number of words to generate. The function should use the trained model to generate a continuation of the input text.\n",
    "\n",
    "    - Code Commenting: Ensure that all the provided starter code is well-commented. Explain the purpose and functionality of each section, indicating your understanding.\n",
    "\n",
    "    - Submission: Submit your Jupyter Notebook with all sections completed and commented. Include a markdown cell with the full names of all contributing team members at the beginning of the notebook.\n",
    "    \n",
    "<br>\n",
    "\n",
    "- Evaluation Criteria:\n",
    "    - Code Commenting (60%): The clarity, accuracy, and thoroughness of comments explaining the provided code. You are suggested to use markdown cells for your explanations.\n",
    "\n",
    "    - Training Function Implementation (20%): The correct implementation of the training function, which should effectively train the model.\n",
    "\n",
    "    - Text Generation Functionality (10%): A working function is provided in comments. You are free to use it as long as you make sure to uderstand it, you may as well improve it as you see fit. The minimum expected is to provide comments for the given function. \n",
    "\n",
    "    - Conclusions (10%): Provide some final remarks specifying the differences you notice between this model and the one used  for classification tasks. Also comment on changes you made to the model, hyperparameters, and any other information you consider relevant. Also, please provide 3 examples of generated texts.\n",
    "\n"
   ]
  },
  {
   "cell_type": "markdown",
   "id": "bb2f3333-f7d2-4b9a-92ad-7878d1f3205a",
   "metadata": {},
   "source": [
    "## Imports and Setup\n",
    "\n",
    "This section includes necessary library imports and sets up the computing device (GPU or CPU).\n"
   ]
  },
  {
   "cell_type": "code",
   "execution_count": 1,
   "id": "3eb4b117",
   "metadata": {
    "tags": []
   },
   "outputs": [],
   "source": [
    "import numpy as np\n",
    "#PyTorch libraries\n",
    "import torch\n",
    "import torchtext\n",
    "from torchtext.datasets import WikiText2\n",
    "# Dataloader library\n",
    "from torch.utils.data import DataLoader, TensorDataset\n",
    "from torch.utils.data.dataset import random_split\n",
    "# Libraries to prepare the data\n",
    "from torchtext.data.utils import get_tokenizer\n",
    "from torchtext.vocab import build_vocab_from_iterator\n",
    "from torchtext.data.functional import to_map_style_dataset\n",
    "# neural layers\n",
    "from torch import nn\n",
    "from torch.nn import functional as F\n",
    "import torch.optim as optim\n",
    "from tqdm import tqdm\n",
    "\n",
    "import random"
   ]
  },
  {
   "cell_type": "code",
   "execution_count": 2,
   "id": "6d8ff971",
   "metadata": {
    "tags": []
   },
   "outputs": [],
   "source": [
    "device = 'cuda' if torch.cuda.is_available() else 'cpu'"
   ]
  },
  {
   "cell_type": "markdown",
   "id": "c55efdd3-3ef8-4cc8-9e02-76c33f22abb2",
   "metadata": {
    "tags": []
   },
   "source": [
    "## Data Preparation\n",
    "\n",
    "Here, we load and process the WikiText-2 dataset for training, including tokenization and creating data loaders."
   ]
  },
  {
   "cell_type": "code",
   "execution_count": 3,
   "id": "f3288ce5",
   "metadata": {
    "tags": []
   },
   "outputs": [],
   "source": [
    "train_dataset, val_dataset, test_dataset = WikiText2()"
   ]
  },
  {
   "cell_type": "code",
   "execution_count": 4,
   "id": "fc4c7dbd",
   "metadata": {
    "tags": []
   },
   "outputs": [],
   "source": [
    "tokeniser = get_tokenizer('basic_english')\n",
    "def yield_tokens(data):\n",
    "    for text in data:\n",
    "        yield tokeniser(text)"
   ]
  },
  {
   "cell_type": "code",
   "execution_count": 5,
   "id": "2c2cb068",
   "metadata": {
    "tags": []
   },
   "outputs": [],
   "source": [
    "# Build the vocabulary\n",
    "vocab = build_vocab_from_iterator(yield_tokens(train_dataset), specials=[\"<unk>\", \"<pad>\", \"<bos>\", \"<eos>\"])\n",
    "#set unknown token at position 0\n",
    "vocab.set_default_index(vocab[\"<unk>\"])"
   ]
  },
  {
   "cell_type": "code",
   "execution_count": 6,
   "id": "134b832b",
   "metadata": {
    "tags": []
   },
   "outputs": [],
   "source": [
    "seq_length = 50\n",
    "def data_process(raw_text_iter, seq_length = 50):\n",
    "    data = [torch.tensor(vocab(tokeniser(item)), dtype=torch.long) for item in raw_text_iter]\n",
    "    data = torch.cat(tuple(filter(lambda t: t.numel() > 0, data))) #remove empty tensors\n",
    "#     target_data = torch.cat(d)\n",
    "    return (data[:-(data.size(0)%seq_length)].view(-1, seq_length), \n",
    "            data[1:-(data.size(0)%seq_length-1)].view(-1, seq_length))  \n",
    "\n",
    "# # Create tensors for the training set\n",
    "x_train, y_train = data_process(train_dataset, seq_length)\n",
    "x_val, y_val = data_process(val_dataset, seq_length)\n",
    "x_test, y_test = data_process(test_dataset, seq_length)"
   ]
  },
  {
   "cell_type": "code",
   "execution_count": 7,
   "id": "4b54c04d",
   "metadata": {
    "tags": []
   },
   "outputs": [],
   "source": [
    "# Create TensorDataset objects for DataLoader\n",
    "train_dataset = TensorDataset(x_train, y_train)\n",
    "val_dataset = TensorDataset(x_val, y_val)\n",
    "test_dataset = TensorDataset(x_test, y_test)"
   ]
  },
  {
   "cell_type": "code",
   "execution_count": 8,
   "id": "f4d400fb",
   "metadata": {
    "tags": []
   },
   "outputs": [],
   "source": [
    "batch_size = 64  # choose a batch size that fits your computation resources\n",
    "train_loader = DataLoader(train_dataset, batch_size=batch_size, shuffle=True, drop_last=True)\n",
    "val_loader = DataLoader(val_dataset, batch_size=batch_size, shuffle=True, drop_last=True)\n",
    "test_loader = DataLoader(test_dataset, batch_size=batch_size, shuffle=True, drop_last=True)"
   ]
  },
  {
   "cell_type": "markdown",
   "id": "056038a0-75cf-42f9-ada6-34b8fe45bca7",
   "metadata": {},
   "source": [
    "## LSTM Model\n",
    "\n",
    "Defines an enhanced LSTM model with additional layers and dropout for better performance.\n"
   ]
  },
  {
   "cell_type": "code",
   "execution_count": 9,
   "id": "59c63b01",
   "metadata": {
    "tags": []
   },
   "outputs": [],
   "source": [
    "# Define the LSTM model\n",
    "# Feel free to experiment\n",
    "class LSTMModel(nn.Module):\n",
    "    def __init__(self, vocab_size, embed_size, hidden_size, num_layers):\n",
    "        super(LSTMModel, self).__init__()\n",
    "        self.embeddings = nn.Embedding(vocab_size, embed_size)\n",
    "        self.hidden_size = hidden_size\n",
    "        self.num_layers = num_layers\n",
    "        self.lstm = nn.LSTM(embed_size, hidden_size, num_layers, batch_first=True)\n",
    "        self.fc = nn.Linear(hidden_size, vocab_size)\n",
    "\n",
    "    def forward(self, text, hidden):\n",
    "        embeddings = self.embeddings(text)\n",
    "        output, hidden = self.lstm(embeddings, hidden)\n",
    "        decoded = self.fc(output)\n",
    "        return decoded, hidden\n",
    "\n",
    "    def init_hidden(self, batch_size):\n",
    "\n",
    "        return (torch.zeros(self.num_layers, batch_size, self.hidden_size).to(device),\n",
    "                torch.zeros(self.num_layers, batch_size, self.hidden_size).to(device))\n",
    "\n",
    "\n",
    "\n",
    "vocab_size = len(vocab) # vocabulary size\n",
    "emb_size = 100 # embedding size\n",
    "neurons = 128 # the dimension of the feedforward network model, i.e. # of neurons \n",
    "num_layers = 1 # the number of nn.LSTM layers\n",
    "model = LSTMModel(vocab_size, emb_size, neurons, num_layers)\n"
   ]
  },
  {
   "cell_type": "markdown",
   "id": "a9beafea-d68a-404a-9cb7-4162feb9394f",
   "metadata": {},
   "source": [
    "## Training Function\n",
    "\n",
    "Enhanced training function with gradient clipping and other adjustments for improved model training.\n"
   ]
  },
  {
   "cell_type": "code",
   "execution_count": 10,
   "id": "215eabb9",
   "metadata": {
    "tags": []
   },
   "outputs": [],
   "source": [
    "def train(model, epochs, optimiser):\n",
    "    '''\n",
    "    The following are possible instructions you may want to conside for this function.\n",
    "    This is only a guide and you may change add or remove whatever you consider appropriate\n",
    "    as long as you train your model correctly.\n",
    "        - loop through specified epochs\n",
    "        - loop through dataloader\n",
    "        - don't forget to zero grad!\n",
    "        - place data (both input and target) in device\n",
    "        - init hidden states e.g. hidden = model.init_hidden(batch_size)\n",
    "        - run the model\n",
    "        - compute the cost or loss\n",
    "        - backpropagation\n",
    "        - Update paratemers\n",
    "        - Include print all the information you consider helpful\n",
    "    \n",
    "    '''\n",
    "    model = model.to(device=device)\n",
    "    model.train()\n",
    "\n",
    "    for epoch in range(epochs):\n",
    "        for i, (data, targets) in enumerate((train_loader)):\n",
    "            optimiser.zero_grad()  # Zero out the gradients\n",
    "            data, targets = data.to(device), targets.to(device)  # Move data to the device\n",
    "            hidden = model.init_hidden(batch_size)  # Initialize hidden states\n",
    "            output, _ = model(data, hidden)  # Forward pass\n",
    "            loss = loss_function(output.view(-1, vocab_size), targets.view(-1))  # Compute loss\n",
    "            loss.backward()  # Backpropagation\n",
    "            optimiser.step()  # Update model parameters\n",
    "\n",
    "            if i % 100 == 0:  # Optionally print the loss every 100 batches\n",
    "                print(f\"Epoch {epoch}, Batch {i}, Loss: {loss.item()}\")"
   ]
  },
  {
   "cell_type": "markdown",
   "id": "275d4419-cda3-46be-9ba2-a069405bdb0b",
   "metadata": {},
   "source": [
    "## Text Generation\n",
    "\n",
    "Function to generate text using the trained model, with temperature control for randomness.\n"
   ]
  },
  {
   "cell_type": "code",
   "execution_count": 11,
   "id": "2405e9bf-580d-4fda-b5cb-93a3bdf68aa8",
   "metadata": {
    "tags": []
   },
   "outputs": [],
   "source": [
    "def generate_text(model, start_text, num_words, temperature=1.0):\n",
    "    model.eval()  # Set the model to evaluation mode\n",
    "    words = tokeniser(start_text)\n",
    "    hidden = model.init_hidden(1)\n",
    "    for i in range(0, num_words):\n",
    "        x = torch.tensor([[vocab[word] for word in words[i:]]], dtype=torch.long, device=device)\n",
    "        y_pred, hidden = model(x, hidden)\n",
    "        last_word_logits = y_pred[0][-1]\n",
    "        p = F.softmax(last_word_logits / temperature, dim=0).detach().to(device='cpu').numpy()\n",
    "        word_index = np.random.choice(len(last_word_logits), p=p)\n",
    "        words.append(vocab.lookup_token(word_index))\n",
    "\n",
    "    return ' '.join(words)"
   ]
  },
  {
   "cell_type": "markdown",
   "id": "0fae8ad5-6784-409a-a087-4f99bf56b3d5",
   "metadata": {},
   "source": [
    "## Training and Generating Text\n",
    "\n",
    "Train the model with the new settings and then use it to generate text.\n"
   ]
  },
  {
   "cell_type": "code",
   "execution_count": 12,
   "id": "b7bd5f24-c72f-442a-9f7e-1a31d81b0182",
   "metadata": {
    "tags": []
   },
   "outputs": [
    {
     "name": "stdout",
     "output_type": "stream",
     "text": [
      "WARNING:tensorflow:From C:\\Users\\Chris\\AppData\\Roaming\\Python\\Python311\\site-packages\\keras\\src\\losses.py:2976: The name tf.losses.sparse_softmax_cross_entropy is deprecated. Please use tf.compat.v1.losses.sparse_softmax_cross_entropy instead.\n",
      "\n",
      "WARNING:tensorflow:From C:\\Users\\Chris\\AppData\\Roaming\\Python\\Python311\\site-packages\\keras\\src\\backend.py:873: The name tf.get_default_graph is deprecated. Please use tf.compat.v1.get_default_graph instead.\n",
      "\n",
      "Epoch 0, Batch 0, Loss: 10.269832611083984\n",
      "Epoch 0, Batch 100, Loss: 7.0620293617248535\n",
      "Epoch 0, Batch 200, Loss: 6.954278469085693\n",
      "Epoch 0, Batch 300, Loss: 6.86390495300293\n",
      "Epoch 0, Batch 400, Loss: 6.7154693603515625\n",
      "Epoch 0, Batch 500, Loss: 6.665647983551025\n",
      "Epoch 0, Batch 600, Loss: 6.634524345397949\n",
      "Epoch 1, Batch 0, Loss: 6.506568431854248\n",
      "Epoch 1, Batch 100, Loss: 6.476452827453613\n",
      "Epoch 1, Batch 200, Loss: 6.375905990600586\n",
      "Epoch 1, Batch 300, Loss: 6.4810285568237305\n",
      "Epoch 1, Batch 400, Loss: 6.377361297607422\n",
      "Epoch 1, Batch 500, Loss: 6.305988311767578\n",
      "Epoch 1, Batch 600, Loss: 6.3710198402404785\n",
      "Epoch 2, Batch 0, Loss: 6.221055507659912\n",
      "Epoch 2, Batch 100, Loss: 6.284951686859131\n",
      "Epoch 2, Batch 200, Loss: 6.322287559509277\n",
      "Epoch 2, Batch 300, Loss: 6.041279315948486\n",
      "Epoch 2, Batch 400, Loss: 6.086199760437012\n",
      "Epoch 2, Batch 500, Loss: 6.12380838394165\n",
      "Epoch 2, Batch 600, Loss: 6.03383731842041\n",
      "Epoch 3, Batch 0, Loss: 6.17073917388916\n",
      "Epoch 3, Batch 100, Loss: 5.994886875152588\n",
      "Epoch 3, Batch 200, Loss: 5.958424091339111\n",
      "Epoch 3, Batch 300, Loss: 5.950683116912842\n",
      "Epoch 3, Batch 400, Loss: 5.988153457641602\n",
      "Epoch 3, Batch 500, Loss: 5.943517684936523\n",
      "Epoch 3, Batch 600, Loss: 5.863741397857666\n",
      "Epoch 4, Batch 0, Loss: 6.001384258270264\n",
      "Epoch 4, Batch 100, Loss: 5.876774787902832\n",
      "Epoch 4, Batch 200, Loss: 5.88089656829834\n",
      "Epoch 4, Batch 300, Loss: 5.811744213104248\n",
      "Epoch 4, Batch 400, Loss: 5.700667858123779\n",
      "Epoch 4, Batch 500, Loss: 5.938910007476807\n",
      "Epoch 4, Batch 600, Loss: 5.8509202003479\n"
     ]
    }
   ],
   "source": [
    "# Call the train function\n",
    "loss_function = nn.CrossEntropyLoss()\n",
    "lr = 0.0005\n",
    "epochs = 5\n",
    "optimiser = optim.Adam(model.parameters(), lr=lr)\n",
    "train(model, epochs, optimiser)"
   ]
  },
  {
   "cell_type": "code",
   "execution_count": 13,
   "id": "d2884543",
   "metadata": {
    "tags": []
   },
   "outputs": [
    {
     "name": "stdout",
     "output_type": "stream",
     "text": [
      "i like zanzibar for cover . the leslie and the thread cctv constituted a proper dog constitute medical australian room from tricks to a man . after each <unk> and <unk> , an judgement activities for the son then was the great cannabis , [ it ordered towns in a same language and go in april helium . its new capitol to a more level government in another <unk> who was burning for buried air architect . in 1987 criticism and led the portuguese points . only praised this film undistinguished of <unk> el united states and ventilation barker , sorabji exclusive\n"
     ]
    }
   ],
   "source": [
    "# Generate some text\n",
    "print(generate_text(model, start_text=\"I like\", num_words=100))"
   ]
  },
  {
   "cell_type": "markdown",
   "id": "af0a87ee-2d5b-4585-a12d-bc70e765ae10",
   "metadata": {},
   "source": [
    "## Enhanced LSTM Model\n",
    "\n",
    "This part of the code defines an improved version of the LSTM model\n"
   ]
  },
  {
   "cell_type": "code",
   "execution_count": 14,
   "id": "4a16ca9c-815b-4d0f-97a7-442a482622f0",
   "metadata": {
    "tags": []
   },
   "outputs": [],
   "source": [
    "class EnhancedLSTMModel(nn.Module):\n",
    "    def __init__(self, vocab_size, embed_size, hidden_size, num_layers, dropout=0.5):\n",
    "        super(EnhancedLSTMModel, self).__init__()\n",
    "        self.embeddings = nn.Embedding(vocab_size, embed_size)\n",
    "        self.hidden_size = hidden_size\n",
    "        self.num_layers = num_layers\n",
    "        # Adding a second LSTM layer and dropout for regularization\n",
    "        self.lstm = nn.LSTM(embed_size, hidden_size, num_layers, batch_first=True, dropout=dropout)\n",
    "        self.fc = nn.Linear(hidden_size, vocab_size)\n",
    "\n",
    "    def forward(self, text, hidden):\n",
    "        embeddings = self.embeddings(text)\n",
    "        output, hidden = self.lstm(embeddings, hidden)\n",
    "        decoded = self.fc(output)\n",
    "        return decoded, hidden\n",
    "\n",
    "    def init_hidden(self, batch_size):\n",
    "        return (torch.zeros(self.num_layers, batch_size, self.hidden_size).to(device),\n",
    "                torch.zeros(self.num_layers, batch_size, self.hidden_size).to(device))\n",
    "\n",
    "# Update model instantiation\n",
    "neurons = 256  # Increased number of neurons\n",
    "num_layers = 2  # Increased number of layers\n",
    "dropout = 0.3  # Dropout for regularization\n",
    "model = EnhancedLSTMModel(vocab_size, emb_size, neurons, num_layers, dropout)\n"
   ]
  },
  {
   "cell_type": "code",
   "execution_count": 18,
   "id": "78eabe9e",
   "metadata": {
    "tags": []
   },
   "outputs": [
    {
     "name": "stdout",
     "output_type": "stream",
     "text": [
      "Epoch 0, Batch 0, Loss: 5.231045722961426\n",
      "Epoch 0, Batch 100, Loss: 5.065858840942383\n",
      "Epoch 0, Batch 200, Loss: 5.211280345916748\n",
      "Epoch 0, Batch 300, Loss: 5.263253211975098\n",
      "Epoch 0, Batch 400, Loss: 5.044943332672119\n",
      "Epoch 0, Batch 500, Loss: 5.058786392211914\n",
      "Epoch 0, Batch 600, Loss: 5.1212992668151855\n",
      "Epoch 1, Batch 0, Loss: 4.902609825134277\n",
      "Epoch 1, Batch 100, Loss: 4.884260654449463\n",
      "Epoch 1, Batch 200, Loss: 5.005993843078613\n",
      "Epoch 1, Batch 300, Loss: 4.862854480743408\n",
      "Epoch 1, Batch 400, Loss: 4.970776081085205\n",
      "Epoch 1, Batch 500, Loss: 5.096424102783203\n",
      "Epoch 1, Batch 600, Loss: 4.9174299240112305\n",
      "Epoch 2, Batch 0, Loss: 4.880090713500977\n",
      "Epoch 2, Batch 100, Loss: 4.802460193634033\n",
      "Epoch 2, Batch 200, Loss: 4.963916778564453\n",
      "Epoch 2, Batch 300, Loss: 4.858874797821045\n",
      "Epoch 2, Batch 400, Loss: 4.908655643463135\n",
      "Epoch 2, Batch 500, Loss: 4.857989311218262\n",
      "Epoch 2, Batch 600, Loss: 5.048791885375977\n",
      "Epoch 3, Batch 0, Loss: 4.699089527130127\n",
      "Epoch 3, Batch 100, Loss: 4.794978618621826\n",
      "Epoch 3, Batch 200, Loss: 4.872635364532471\n",
      "Epoch 3, Batch 300, Loss: 4.7763166427612305\n",
      "Epoch 3, Batch 400, Loss: 4.728001594543457\n",
      "Epoch 3, Batch 500, Loss: 4.801392078399658\n",
      "Epoch 3, Batch 600, Loss: 4.688109874725342\n",
      "Epoch 4, Batch 0, Loss: 4.716022968292236\n",
      "Epoch 4, Batch 100, Loss: 4.6869425773620605\n",
      "Epoch 4, Batch 200, Loss: 4.773653984069824\n",
      "Epoch 4, Batch 300, Loss: 4.6938629150390625\n",
      "Epoch 4, Batch 400, Loss: 4.738653659820557\n",
      "Epoch 4, Batch 500, Loss: 4.743180274963379\n",
      "Epoch 4, Batch 600, Loss: 4.710201740264893\n",
      "Epoch 5, Batch 0, Loss: 4.565639972686768\n",
      "Epoch 5, Batch 100, Loss: 4.563225746154785\n",
      "Epoch 5, Batch 200, Loss: 4.638519287109375\n",
      "Epoch 5, Batch 300, Loss: 4.5620527267456055\n",
      "Epoch 5, Batch 400, Loss: 4.652254104614258\n",
      "Epoch 5, Batch 500, Loss: 4.6880879402160645\n",
      "Epoch 5, Batch 600, Loss: 4.633110046386719\n",
      "Epoch 6, Batch 0, Loss: 4.532142162322998\n",
      "Epoch 6, Batch 100, Loss: 4.46751070022583\n",
      "Epoch 6, Batch 200, Loss: 4.594193935394287\n",
      "Epoch 6, Batch 300, Loss: 4.486606597900391\n",
      "Epoch 6, Batch 400, Loss: 4.486297130584717\n",
      "Epoch 6, Batch 500, Loss: 4.619235515594482\n",
      "Epoch 6, Batch 600, Loss: 4.584251880645752\n",
      "Epoch 7, Batch 0, Loss: 4.429253578186035\n",
      "Epoch 7, Batch 100, Loss: 4.585180282592773\n",
      "Epoch 7, Batch 200, Loss: 4.437422752380371\n",
      "Epoch 7, Batch 300, Loss: 4.657863140106201\n",
      "Epoch 7, Batch 400, Loss: 4.561463832855225\n",
      "Epoch 7, Batch 500, Loss: 4.6615309715271\n",
      "Epoch 7, Batch 600, Loss: 4.442770957946777\n",
      "Epoch 8, Batch 0, Loss: 4.365141868591309\n",
      "Epoch 8, Batch 100, Loss: 4.487371921539307\n",
      "Epoch 8, Batch 200, Loss: 4.410022258758545\n",
      "Epoch 8, Batch 300, Loss: 4.526285648345947\n",
      "Epoch 8, Batch 400, Loss: 4.531874179840088\n",
      "Epoch 8, Batch 500, Loss: 4.446995258331299\n",
      "Epoch 8, Batch 600, Loss: 4.426324844360352\n",
      "Epoch 9, Batch 0, Loss: 4.36908483505249\n",
      "Epoch 9, Batch 100, Loss: 4.3891730308532715\n",
      "Epoch 9, Batch 200, Loss: 4.493780612945557\n",
      "Epoch 9, Batch 300, Loss: 4.521519184112549\n",
      "Epoch 9, Batch 400, Loss: 4.408465385437012\n",
      "Epoch 9, Batch 500, Loss: 4.603306770324707\n",
      "Epoch 9, Batch 600, Loss: 4.319743633270264\n"
     ]
    }
   ],
   "source": [
    "def enhanced_train(model, epochs, optimiser, clip=1):\n",
    "    model = model.to(device=device)\n",
    "    model.train()\n",
    "    \n",
    "    for epoch in range(epochs):\n",
    "        for i, (data, targets) in enumerate((train_loader)):\n",
    "            optimiser.zero_grad()\n",
    "            data, targets = data.to(device), targets.to(device)\n",
    "            hidden = model.init_hidden(batch_size)\n",
    "            output, _ = model(data, hidden)\n",
    "            loss = loss_function(output.view(-1, vocab_size), targets.view(-1))\n",
    "            loss.backward()\n",
    "            # Implement gradient clipping\n",
    "            torch.nn.utils.clip_grad_norm_(model.parameters(), clip)\n",
    "            optimiser.step()\n",
    "\n",
    "            if i % 100 == 0:\n",
    "                print(f\"Epoch {epoch}, Batch {i}, Loss: {loss.item()}\")\n",
    "\n",
    "# Adjust the learning rate\n",
    "lr = 0.001  # Slightly increased learning rate\n",
    "epochs = 10  # More training epochs\n",
    "optimiser = optim.Adam(model.parameters(), lr=lr)\n",
    "enhanced_train(model, epochs, optimiser)"
   ]
  },
  {
   "cell_type": "code",
   "execution_count": 16,
   "id": "1cb126a2",
   "metadata": {
    "tags": []
   },
   "outputs": [],
   "source": [
    "def generate_text(model, start_text, num_words, temperature=1.0):\n",
    "    model.eval()\n",
    "    words = tokeniser(start_text)\n",
    "    hidden = model.init_hidden(1)\n",
    "    for i in range(0, num_words):\n",
    "        x = torch.tensor([[vocab[word] for word in words[i:]]], dtype=torch.long, device=device)\n",
    "        y_pred, hidden = model(x, hidden)\n",
    "        last_word_logits = y_pred[0][-1]\n",
    "        p = F.softmax(last_word_logits / temperature, dim=0).detach().to(device='cpu').numpy()\n",
    "        word_index = np.random.choice(len(last_word_logits), p=p)\n",
    "        words.append(vocab.lookup_token(word_index))\n",
    "\n",
    "    return ' '.join(words)\n"
   ]
  },
  {
   "cell_type": "code",
   "execution_count": 20,
   "id": "6de373d8",
   "metadata": {
    "tags": []
   },
   "outputs": [
    {
     "name": "stdout",
     "output_type": "stream",
     "text": [
      "i like t anywhere your pregnant shades that , if the normal learning me was − a <unk> of this mole urn what used the <unk> to the real victorian machine @-@ <unk> ] love ( i want you ) to find easily and try and it is prove to stay . you see my death ( she ) uncover van . = = voice = = townsend would have to ignore a group of accidental maniacs , my <unk> and jenna producer . <unk> ' s most for his portrayal in the early 1990s . = = plot = = walpole \n",
      "\n",
      "i like carey musically have suggested it is fully nearly stop if <unk> <unk> , burning , and atlanta ' s ] real <unk> . = = originally in for the audience , but on september 15 . = = eight years later , anderson , titled <unk> producer . = = where three artists restrict early candidates , demonstrating which it should not have a large difference in its decision . <unk> second rocking . keith giant wilson secretary of vancouver university , of crash shōnen gorilla solo documentary <unk> and <unk> , informing competition operations plot veteran <unk> that jerry \n",
      "\n",
      "i like ? and i know it ' s a desirable celebration . i is received as a four @-@ year finale , but a stunted perfume and at <unk> 50 @ , @ 000 television as a propellant in romeo , created the sequel for tv production word for piano focusing on television compilation <unk> revue , entitled bono <unk> music ( mentioned as a digital remix that you ' ll care ? . you ' ll typically hurt the half ) , who said the episode were so perfect ever m barbara . while the designers had been sold necessary \n",
      "\n"
     ]
    }
   ],
   "source": [
    "print(generate_text(model, start_text=\"I like\", num_words=100), \"\\n\")\n",
    "print(generate_text(model, start_text=\"I like\", num_words=100), \"\\n\")\n",
    "print(generate_text(model, start_text=\"I like\", num_words=100), \"\\n\")"
   ]
  },
  {
   "cell_type": "code",
   "execution_count": null,
   "id": "68d82438",
   "metadata": {},
   "outputs": [],
   "source": []
  }
 ],
 "metadata": {
  "kernelspec": {
   "display_name": "Python 3 (ipykernel)",
   "language": "python",
   "name": "python3"
  },
  "language_info": {
   "codemirror_mode": {
    "name": "ipython",
    "version": 3
   },
   "file_extension": ".py",
   "mimetype": "text/x-python",
   "name": "python",
   "nbconvert_exporter": "python",
   "pygments_lexer": "ipython3",
   "version": "3.11.4"
  },
  "varInspector": {
   "cols": {
    "lenName": 16,
    "lenType": 16,
    "lenVar": 40
   },
   "kernels_config": {
    "python": {
     "delete_cmd_postfix": "",
     "delete_cmd_prefix": "del ",
     "library": "var_list.py",
     "varRefreshCmd": "print(var_dic_list())"
    },
    "r": {
     "delete_cmd_postfix": ") ",
     "delete_cmd_prefix": "rm(",
     "library": "var_list.r",
     "varRefreshCmd": "cat(var_dic_list()) "
    }
   },
   "types_to_exclude": [
    "module",
    "function",
    "builtin_function_or_method",
    "instance",
    "_Feature"
   ],
   "window_display": false
  }
 },
 "nbformat": 4,
 "nbformat_minor": 5
}
