{
 "cells": [
  {
   "cell_type": "markdown",
   "id": "940c6dbc",
   "metadata": {},
   "source": [
    "## TC 5033\n",
    "### Word Embeddings\n",
    "\n",
    "<br>\n",
    "\n",
    "#### Activity 3b: Text Classification using RNNs and AG_NEWS dataset in PyTorch\n",
    "<br>\n",
    "\n",
    "### Team:\n",
    "* Elmer Payro Costilla - A01014943\n",
    "* Christopher Valdez Cantú - A01793549\n",
    "* José Francisco Muñoz del Ángel - A01794174\n",
    "* Luis José Navarrete Baduy - A017939192   \n",
    "\n",
    "<br> \n",
    "\n",
    "- Objective:\n",
    "    - Understand the basics of Recurrent Neural Networks (RNNs) and their application in text classification.\n",
    "    - Learn how to handle a real-world text dataset, AG_NEWS, in PyTorch.\n",
    "    - Gain hands-on experience in defining, training, and evaluating a text classification model in PyTorch.\n",
    "    \n",
    "<br>\n",
    "\n",
    "- Instructions:\n",
    "    - Data Preparation: Starter code will be provided that loads the AG_NEWS dataset and prepares it for training. Do not modify this part. However, you should be sure to understand it, and comment it, the use of markdown cells is suggested. \n",
    "\n",
    "    - Model Setup: A skeleton code for the RNN model class will be provided. Complete this class and use it to instantiate your model.\n",
    "\n",
    "    - Implementing Accuracy Function: Write a function that takes model predictions and ground truth labels as input and returns the model's accuracy.\n",
    "\n",
    "    - Training Function: Implement a function that performs training on the given model using the AG_NEWS dataset. Your model should achieve an accuracy of at least 80% to get full marks for this part.\n",
    "\n",
    "    - Text Sampling: Write a function that takes a sample text as input and classifies it using your trained model.\n",
    "\n",
    "    - Confusion Matrix: Implement a function to display the confusion matrix for your model on the test data.\n",
    "\n",
    "    - Submission: Submit your completed Jupyter Notebook. Make sure to include a markdown cell at the beginning of the notebook that lists the names of all team members. Teams should consist of 3 to 4 members.\n",
    "    \n",
    "<br>\n",
    "\n",
    "- Evaluation Criteria:\n",
    "\n",
    "    - Correct setup of all the required libraries and modules (10%)\n",
    "    - Code Quality (30%): Your code should be well-organized, clearly commented, and easy to follow. Use also markdown cells for clarity. Comments should be given for all the provided code, this will help you understand its functionality.\n",
    "    \n",
    "   - Functionality (60%): \n",
    "        - All the functions should execute without errors and provide the expected outputs.\n",
    "        - RNN model class (20%)\n",
    "        - Accuracy fucntion (10%)\n",
    "        - Training function (10%)\n",
    "        - Sampling function (10%)\n",
    "        - Confucion matrix (10%)\n",
    "\n",
    "        - The model should achieve at least an 80% accuracy on the AG_NEWS test set for full marks in this criterion.\n"
   ]
  },
  {
   "cell_type": "markdown",
   "id": "4de318da",
   "metadata": {},
   "source": [
    "Dataset\n",
    "\n",
    "https://pytorch.org/text/stable/datasets.html#text-classification\n",
    "\n",
    "https://paperswithcode.com/dataset/ag-news\n"
   ]
  },
  {
   "cell_type": "markdown",
   "id": "4a9801f9",
   "metadata": {},
   "source": [
    "### Import libraries"
   ]
  },
  {
   "cell_type": "code",
   "execution_count": 1,
   "id": "54394f53",
   "metadata": {
    "tags": []
   },
   "outputs": [],
   "source": [
    "#%pip install torchtext\n",
    "#%pip install torchdata\n",
    "#%pip install scikit-plot\n",
    "#%pip install portalocker\n",
    "# conda install pytorch torchvision torchaudio cudatoolkit=10.2 -c pytorch"
   ]
  },
  {
   "cell_type": "code",
   "execution_count": 2,
   "id": "878b524f",
   "metadata": {
    "tags": []
   },
   "outputs": [],
   "source": [
    "# The following libraries are required for running the given code\n",
    "# Please feel free to add any libraries you consider adecuate to complete the assingment.\n",
    "import numpy as np\n",
    "#PyTorch libraries\n",
    "import torch\n",
    "from torchtext.datasets import AG_NEWS\n",
    "# Dataloader library\n",
    "from torch.utils.data import DataLoader\n",
    "from torch.utils.data.dataset import random_split\n",
    "# Libraries to prepare the data\n",
    "from torchtext.data.utils import get_tokenizer\n",
    "from torchtext.vocab import build_vocab_from_iterator\n",
    "from torchtext.data.functional import to_map_style_dataset\n",
    "# neural layers\n",
    "from torch import nn\n",
    "from torch.nn import functional as F\n",
    "from sklearn.metrics import confusion_matrix\n",
    "import matplotlib.pyplot as plt\n",
    "import seaborn as sns\n",
    "\n",
    "# These libraries are suggested to plot confusion matrix\n",
    "# you may use others\n",
    "import scikitplot as skplt\n",
    "import gc"
   ]
  },
  {
   "cell_type": "code",
   "execution_count": 3,
   "id": "3bab55f3",
   "metadata": {
    "tags": []
   },
   "outputs": [
    {
     "name": "stdout",
     "output_type": "stream",
     "text": [
      "cuda\n"
     ]
    }
   ],
   "source": [
    "# Use GPU if available\n",
    "device = torch.device(\"cuda\" if torch.cuda.is_available() else \"cpu\")\n",
    "print(device)"
   ]
  },
  {
   "cell_type": "markdown",
   "id": "3d38956d",
   "metadata": {},
   "source": [
    "### Get the train and the test datasets and dataloaders"
   ]
  },
  {
   "cell_type": "markdown",
   "id": "e9c6b784",
   "metadata": {},
   "source": [
    "Classes:\n",
    "\n",
    "* 1 - World\n",
    "\n",
    "* 2 - Sports\n",
    "\n",
    "* 3 - Business\n",
    "\n",
    "* 4 - Sci/Tech\n",
    "\n",
    "We will convert them to:\n",
    "\n",
    "* 0 - World\n",
    "\n",
    "* 1 - Sports\n",
    "\n",
    "* 2 - Business\n",
    "\n",
    "* 3 - Sci/Tech"
   ]
  },
  {
   "cell_type": "markdown",
   "id": "153e706b-d7ba-49d0-84e9-fefccc12c326",
   "metadata": {},
   "source": [
    "## Data preparation\n",
    "\n",
    "Data preparation is where we get our data ready for the model. We load the data, organize it, and make sure it's in the right format.\n"
   ]
  },
  {
   "cell_type": "code",
   "execution_count": 4,
   "id": "49fbed19",
   "metadata": {
    "tags": []
   },
   "outputs": [],
   "source": [
    "train_dataset, test_dataset = AG_NEWS()\n",
    "train_dataset, test_dataset = to_map_style_dataset(train_dataset), to_map_style_dataset(test_dataset)"
   ]
  },
  {
   "cell_type": "code",
   "execution_count": 5,
   "id": "9c372eb9",
   "metadata": {
    "tags": []
   },
   "outputs": [],
   "source": [
    "# Get the tokeniser\n",
    "# tokeniser object\n",
    "tokeniser = get_tokenizer('basic_english')\n",
    "\n",
    "def yield_tokens(data):\n",
    "    for _, text in data:\n",
    "        yield tokeniser(text)"
   ]
  },
  {
   "cell_type": "code",
   "execution_count": 6,
   "id": "794d0375",
   "metadata": {
    "tags": []
   },
   "outputs": [],
   "source": [
    "# Build the vocabulary\n",
    "vocab = build_vocab_from_iterator(yield_tokens(train_dataset), specials=[\"<unk>\"])\n",
    "#set unknown token at position 0\n",
    "vocab.set_default_index(vocab[\"<unk>\"])"
   ]
  },
  {
   "cell_type": "code",
   "execution_count": 7,
   "id": "b48268d4",
   "metadata": {
    "tags": []
   },
   "outputs": [
    {
     "name": "stdout",
     "output_type": "stream",
     "text": [
      "['welcome', 'to', 'te3007'] [3314, 4, 0]\n"
     ]
    }
   ],
   "source": [
    "#test tokens\n",
    "tokens = tokeniser('Welcome to TE3007')\n",
    "print(tokens, vocab(tokens))"
   ]
  },
  {
   "cell_type": "code",
   "execution_count": 8,
   "id": "c8c8f6a6",
   "metadata": {
    "tags": []
   },
   "outputs": [],
   "source": [
    "NUM_TRAIN = int(len(train_dataset)*0.9)\n",
    "NUM_VAL = len(train_dataset) - NUM_TRAIN"
   ]
  },
  {
   "cell_type": "code",
   "execution_count": 9,
   "id": "8290895e",
   "metadata": {
    "tags": []
   },
   "outputs": [],
   "source": [
    "train_dataset, val_dataset = random_split(train_dataset, [NUM_TRAIN, NUM_VAL])"
   ]
  },
  {
   "cell_type": "code",
   "execution_count": 10,
   "id": "cbc75b54",
   "metadata": {
    "tags": []
   },
   "outputs": [
    {
     "name": "stdout",
     "output_type": "stream",
     "text": [
      "108000 12000 7600\n"
     ]
    }
   ],
   "source": [
    "print(len(train_dataset), len(val_dataset), len(test_dataset))"
   ]
  },
  {
   "cell_type": "code",
   "execution_count": 11,
   "id": "ffdbf077",
   "metadata": {
    "tags": []
   },
   "outputs": [],
   "source": [
    "max_tokens = 50\n",
    "# function passed to the DataLoader to process a batch of data as indicated\n",
    "def collate_batch(batch):\n",
    "    # Get label and text\n",
    "    y, x = list(zip(*batch))\n",
    "    \n",
    "    # Create list with indices from tokeniser\n",
    "    x = [vocab(tokeniser(text)) for text in x]\n",
    "    x = [t + ([0]*(max_tokens - len(t))) if len(t) < max_tokens else t[:max_tokens] for t in x]\n",
    "\n",
    "    # Prepare the labels, by subtracting 1 to get them in the range 0-3\n",
    "    return torch.tensor(x, dtype=torch.int32), torch.tensor(y) - 1"
   ]
  },
  {
   "cell_type": "code",
   "execution_count": 12,
   "id": "5eb459c7",
   "metadata": {
    "tags": []
   },
   "outputs": [],
   "source": [
    "labels =  [\"World\", \"Sports\", \"Business\", \"Sci/Tech\"]\n",
    "BATCH_SIZE = 256"
   ]
  },
  {
   "cell_type": "code",
   "execution_count": 13,
   "id": "0a55e6ee",
   "metadata": {
    "tags": []
   },
   "outputs": [],
   "source": [
    "train_loader = DataLoader(train_dataset, batch_size=BATCH_SIZE, collate_fn=collate_batch, shuffle = True)\n",
    "val_loader = DataLoader(val_dataset, batch_size=BATCH_SIZE, collate_fn=collate_batch, shuffle = True)\n",
    "test_loader = DataLoader(test_dataset, batch_size=BATCH_SIZE, collate_fn=collate_batch, shuffle = True)"
   ]
  },
  {
   "cell_type": "markdown",
   "id": "47b98898",
   "metadata": {},
   "source": [
    "### Let us build our RNN model\n",
    "\n",
    "This section is about building our text classification model. We'll lay out its structure and how it should work.\n"
   ]
  },
  {
   "cell_type": "code",
   "execution_count": 14,
   "id": "50f20793",
   "metadata": {
    "tags": []
   },
   "outputs": [],
   "source": [
    "EMBEDDING_SIZE = 50\n",
    "NEURONS = 40\n",
    "LAYERS = 4\n",
    "NUM_CLASSES = 4"
   ]
  },
  {
   "cell_type": "code",
   "execution_count": 15,
   "id": "0f7f5621",
   "metadata": {
    "tags": []
   },
   "outputs": [],
   "source": [
    "class RNN_Model_1(nn.Module):\n",
    "    def __init__(self, embed_size, hidden, layers, num_classes):\n",
    "        super().__init__()\n",
    "        # First layer must have a size of lenght vocabulary\n",
    "        self.embedding_layer = nn.Embedding(num_embeddings=len(vocab), embedding_dim=embed_size)\n",
    "        # You may use PyTorch nn.GRU(), nn.RNN(), or nn.LSTM()\n",
    "        self.rnn = nn.RNN(input_size=embed_size, hidden_size=hidden, num_layers=layers, batch_first=True)                        \n",
    "        # output layer must have input as hidden layers and output the number of classes\n",
    "        self.linear = nn.Linear(hidden, num_classes)        \n",
    "        \n",
    "    def forward(self, x):\n",
    "        # implement forward pass. This function will be called when executing the model\n",
    "        embeddings = self.embedding_layer(x)\n",
    "        output, hidden = self.rnn(embeddings, torch.randn(LAYERS, len(x), NEURONS))\n",
    "        return self.linear(output[:,-1])\n",
    "        "
   ]
  },
  {
   "cell_type": "markdown",
   "id": "48cb6d2c",
   "metadata": {},
   "source": [
    "* Long Short-Term Memory (LSTM) networks are an improvement over simple Recurrent Neural Networks (RNNs). LSTMs are designed to avoid the vanishing gradient problem, which is common in standard RNNs, especially with longer sequences.\n",
    "* With their structure of memory cells and control gates (forget, input, and output gates), LSTMs can maintain relevant information over long sequences of data, making them more suitable for natural language processing tasks where dependencies between words can span across long sequences.\n",
    "* Initializing the hidden and cell states to zero for each batch is a common practice, as it provides a consistent starting point for learning each sequence. This is particularly useful in the context of text classification, where each input is generally independent of the others"
   ]
  },
  {
   "cell_type": "code",
   "execution_count": 16,
   "id": "5cfd961e",
   "metadata": {
    "tags": []
   },
   "outputs": [],
   "source": [
    "class RNN_Model_1(nn.Module):\n",
    "    def __init__(self, embed_size, hidden, layers, num_classes):\n",
    "        super(RNN_Model_1, self).__init__()\n",
    "        self.layers = layers\n",
    "        self.hidden = hidden\n",
    "        # Embedding layer\n",
    "        self.embedding_layer = nn.Embedding(num_embeddings=len(vocab), embedding_dim=embed_size)\n",
    "        # LSTM instead of RNN\n",
    "        self.lstm = nn.LSTM(input_size=embed_size, hidden_size=hidden, num_layers=layers, batch_first=True)                        \n",
    "        # Linear layer for classification\n",
    "        self.linear = nn.Linear(hidden, num_classes)     \n",
    "\n",
    "    def forward(self, x):\n",
    "        # Embedding the input\n",
    "        embeddings = self.embedding_layer(x)\n",
    "        # Hidden and cell state initialized to zeros\n",
    "        h0 = torch.zeros(self.layers, x.size(0), self.hidden).to(x.device)\n",
    "        c0 = torch.zeros(self.layers, x.size(0), self.hidden).to(x.device)\n",
    "        # Passing through LSTM\n",
    "        output, (hn, cn) = self.lstm(embeddings, (h0, c0))\n",
    "        # Taking the last output of the sequence for classification\n",
    "        return self.linear(output[:, -1])\n"
   ]
  },
  {
   "cell_type": "code",
   "execution_count": 17,
   "id": "ee32d3e6",
   "metadata": {
    "tags": []
   },
   "outputs": [],
   "source": [
    "from sklearn.metrics import accuracy_score\n",
    "\n",
    "def accuracy(model, loss_fn, loader):\n",
    "    with torch.no_grad():\n",
    "        Ys, Y_preds, losses = [], [], []\n",
    "        for X, Y in loader:\n",
    "            preds = model(X)\n",
    "            loss = loss_fn(preds, Y)\n",
    "            losses.append(loss.item())\n",
    "            \n",
    "            Ys.append(Y)\n",
    "            Y_preds.append(preds.argmax(dim=-1))\n",
    "        \n",
    "        Ys = torch.cat(Ys)\n",
    "        Y_preds = torch.cat(Y_preds)\n",
    "\n",
    "        print(\"Valid Loss : {:.3f}\".format(torch.tensor(losses).mean()))\n",
    "        print(\"Valid Acc  : {:.3f}\".format(accuracy_score(Ys.detach().numpy(), Y_preds.detach().numpy())))\n",
    "\n",
    "        "
   ]
  },
  {
   "cell_type": "code",
   "execution_count": 18,
   "id": "5e843e1f",
   "metadata": {
    "code_folding": [],
    "tags": []
   },
   "outputs": [],
   "source": [
    "from tqdm import tqdm\n",
    "\n",
    "def train(model, loss_fn, optimizer, epochs=10):\n",
    "    for i in range(1, epochs+1):\n",
    "        losses = []\n",
    "        for X, Y in tqdm(train_loader):\n",
    "            Y_preds = model(X)            \n",
    "            loss = loss_fn(Y_preds, Y)\n",
    "            losses.append(loss.item())\n",
    "\n",
    "            optimizer.zero_grad()\n",
    "            loss.backward()\n",
    "            optimizer.step()\n",
    "\n",
    "        print(\"Train Loss : {:.3f}\".format(torch.tensor(losses).mean()))\n",
    "        accuracy(model,loss_fn, val_loader)"
   ]
  },
  {
   "cell_type": "code",
   "execution_count": 19,
   "id": "87775b29",
   "metadata": {
    "tags": []
   },
   "outputs": [],
   "source": [
    "epochs = 15\n",
    "lr = 1e-3\n",
    "# instantiate model\n",
    "loss_fn = nn.CrossEntropyLoss()\n",
    "rnn_model = RNN_Model_1(EMBEDDING_SIZE, NEURONS, LAYERS, NUM_CLASSES)\n",
    "optimizer = torch.optim.Adam(rnn_model.parameters(), lr=lr)\n"
   ]
  },
  {
   "cell_type": "markdown",
   "id": "151312bd-2d60-4234-8852-117f1bdc1920",
   "metadata": {},
   "source": [
    "## Training and Evaluation\n",
    "\n",
    "### Training Function\n",
    "This section includes the function to train the model using the AG_NEWS dataset. The function takes the model, optimizer, criterion, and data loaders as inputs and performs the training loop.\n",
    "\n",
    "### Evaluation Metrics\n",
    "After training, we evaluate the model's performance on the test set. We'll calculate accuracy and display a confusion matrix to understand the model's strengths and weaknesses in classifying news articles.\n"
   ]
  },
  {
   "cell_type": "code",
   "execution_count": 20,
   "id": "aec12a1b",
   "metadata": {
    "scrolled": true,
    "tags": []
   },
   "outputs": [
    {
     "name": "stderr",
     "output_type": "stream",
     "text": [
      "100%|██████████| 422/422 [00:35<00:00, 12.06it/s]\n"
     ]
    },
    {
     "name": "stdout",
     "output_type": "stream",
     "text": [
      "Train Loss : 1.032\n",
      "Valid Loss : 0.729\n",
      "Valid Acc  : 0.709\n"
     ]
    },
    {
     "name": "stderr",
     "output_type": "stream",
     "text": [
      "100%|██████████| 422/422 [00:34<00:00, 12.09it/s]\n"
     ]
    },
    {
     "name": "stdout",
     "output_type": "stream",
     "text": [
      "Train Loss : 0.526\n",
      "Valid Loss : 0.437\n",
      "Valid Acc  : 0.848\n"
     ]
    },
    {
     "name": "stderr",
     "output_type": "stream",
     "text": [
      "100%|██████████| 422/422 [00:35<00:00, 11.86it/s]\n"
     ]
    },
    {
     "name": "stdout",
     "output_type": "stream",
     "text": [
      "Train Loss : 0.361\n",
      "Valid Loss : 0.373\n",
      "Valid Acc  : 0.872\n"
     ]
    },
    {
     "name": "stderr",
     "output_type": "stream",
     "text": [
      "100%|██████████| 422/422 [00:36<00:00, 11.66it/s]\n"
     ]
    },
    {
     "name": "stdout",
     "output_type": "stream",
     "text": [
      "Train Loss : 0.294\n",
      "Valid Loss : 0.346\n",
      "Valid Acc  : 0.886\n"
     ]
    },
    {
     "name": "stderr",
     "output_type": "stream",
     "text": [
      "100%|██████████| 422/422 [00:34<00:00, 12.30it/s]\n"
     ]
    },
    {
     "name": "stdout",
     "output_type": "stream",
     "text": [
      "Train Loss : 0.249\n",
      "Valid Loss : 0.328\n",
      "Valid Acc  : 0.892\n"
     ]
    },
    {
     "name": "stderr",
     "output_type": "stream",
     "text": [
      "100%|██████████| 422/422 [00:34<00:00, 12.40it/s]\n"
     ]
    },
    {
     "name": "stdout",
     "output_type": "stream",
     "text": [
      "Train Loss : 0.216\n",
      "Valid Loss : 0.348\n",
      "Valid Acc  : 0.891\n"
     ]
    },
    {
     "name": "stderr",
     "output_type": "stream",
     "text": [
      "100%|██████████| 422/422 [00:34<00:00, 12.41it/s]\n"
     ]
    },
    {
     "name": "stdout",
     "output_type": "stream",
     "text": [
      "Train Loss : 0.188\n",
      "Valid Loss : 0.341\n",
      "Valid Acc  : 0.893\n"
     ]
    },
    {
     "name": "stderr",
     "output_type": "stream",
     "text": [
      "100%|██████████| 422/422 [00:34<00:00, 12.36it/s]\n"
     ]
    },
    {
     "name": "stdout",
     "output_type": "stream",
     "text": [
      "Train Loss : 0.166\n",
      "Valid Loss : 0.338\n",
      "Valid Acc  : 0.895\n"
     ]
    },
    {
     "name": "stderr",
     "output_type": "stream",
     "text": [
      "100%|██████████| 422/422 [00:34<00:00, 12.38it/s]\n"
     ]
    },
    {
     "name": "stdout",
     "output_type": "stream",
     "text": [
      "Train Loss : 0.148\n",
      "Valid Loss : 0.351\n",
      "Valid Acc  : 0.896\n"
     ]
    },
    {
     "name": "stderr",
     "output_type": "stream",
     "text": [
      "100%|██████████| 422/422 [00:34<00:00, 12.37it/s]\n"
     ]
    },
    {
     "name": "stdout",
     "output_type": "stream",
     "text": [
      "Train Loss : 0.133\n",
      "Valid Loss : 0.368\n",
      "Valid Acc  : 0.893\n"
     ]
    },
    {
     "name": "stderr",
     "output_type": "stream",
     "text": [
      "100%|██████████| 422/422 [00:34<00:00, 12.35it/s]\n"
     ]
    },
    {
     "name": "stdout",
     "output_type": "stream",
     "text": [
      "Train Loss : 0.119\n",
      "Valid Loss : 0.388\n",
      "Valid Acc  : 0.891\n"
     ]
    },
    {
     "name": "stderr",
     "output_type": "stream",
     "text": [
      "100%|██████████| 422/422 [00:34<00:00, 12.30it/s]\n"
     ]
    },
    {
     "name": "stdout",
     "output_type": "stream",
     "text": [
      "Train Loss : 0.109\n",
      "Valid Loss : 0.391\n",
      "Valid Acc  : 0.892\n"
     ]
    },
    {
     "name": "stderr",
     "output_type": "stream",
     "text": [
      "100%|██████████| 422/422 [00:34<00:00, 12.29it/s]\n"
     ]
    },
    {
     "name": "stdout",
     "output_type": "stream",
     "text": [
      "Train Loss : 0.099\n",
      "Valid Loss : 0.403\n",
      "Valid Acc  : 0.892\n"
     ]
    },
    {
     "name": "stderr",
     "output_type": "stream",
     "text": [
      "100%|██████████| 422/422 [00:34<00:00, 12.32it/s]\n"
     ]
    },
    {
     "name": "stdout",
     "output_type": "stream",
     "text": [
      "Train Loss : 0.090\n",
      "Valid Loss : 0.412\n",
      "Valid Acc  : 0.891\n"
     ]
    },
    {
     "name": "stderr",
     "output_type": "stream",
     "text": [
      "100%|██████████| 422/422 [00:34<00:00, 12.30it/s]\n"
     ]
    },
    {
     "name": "stdout",
     "output_type": "stream",
     "text": [
      "Train Loss : 0.083\n",
      "Valid Loss : 0.427\n",
      "Valid Acc  : 0.891\n"
     ]
    }
   ],
   "source": [
    "train(rnn_model, loss_fn=loss_fn, optimizer=optimizer,  epochs=epochs)"
   ]
  },
  {
   "cell_type": "code",
   "execution_count": 21,
   "id": "7a3ef175",
   "metadata": {
    "tags": []
   },
   "outputs": [
    {
     "name": "stdout",
     "output_type": "stream",
     "text": [
      "Valid Loss : 0.441\n",
      "Valid Acc  : 0.895\n",
      "None\n"
     ]
    }
   ],
   "source": [
    "print(accuracy(rnn_model, loss_fn, test_loader))"
   ]
  },
  {
   "cell_type": "markdown",
   "id": "f5851eb3-f4a2-4bd6-a19c-04f8e0f57260",
   "metadata": {},
   "source": [
    "## Text Sampling with the Model\n",
    "\n",
    "We take some sample texts, use the model to predict their categories, and then see how well it did.\n",
    "\n",
    "### Steps:\n",
    "1. **Preparing the Model**: We start by setting our model to 'evaluation mode'. This makes sure it behaves correctly, not like when it's learning.\n",
    "   \n",
    "2. **Choosing Samples**: We pick a few texts from our data to test the model.\n",
    "\n",
    "3. **Making Predictions**: The model looks at each text and guesses its category.\n",
    "\n",
    "4. **Showing Results**:  We then display these texts along with the model's guesses and the actual categories. This helps us see if the model is doing a good job.\n"
   ]
  },
  {
   "cell_type": "code",
   "execution_count": 22,
   "id": "ac9bca09-bff2-44cf-8d04-e654af94f0d1",
   "metadata": {
    "tags": []
   },
   "outputs": [],
   "source": [
    "def index_to_token(vocab, index):\n",
    "    for token, idx in vocab.get_stoi().items():\n",
    "        if idx == index:\n",
    "            return token\n",
    "    return \"<unk>\"  # Return unknown token if not found"
   ]
  },
  {
   "cell_type": "code",
   "execution_count": 23,
   "id": "ed30693d",
   "metadata": {
    "tags": []
   },
   "outputs": [],
   "source": [
    "def sample_text(model, loader):\n",
    "    model.eval()  # Set the model to evaluation mode\n",
    "    samples = []  # List to store text and predicted labels\n",
    "\n",
    "    with torch.no_grad():  # Disable gradient computation\n",
    "        # Get one batch of data for sampling\n",
    "        texts, labels = next(iter(loader))\n",
    "\n",
    "        outputs = model(texts)  # Get model predictions\n",
    "        _, predicted = torch.max(outputs, 1)  # Convert outputs to predicted class labels\n",
    "\n",
    "        # Store sample text and predictions in the list\n",
    "        for i in range(len(texts)):\n",
    "            # Convert indices back to text\n",
    "            sample_text = \" \".join([index_to_token(vocab, idx) for idx in texts[i] if idx != vocab['<unk>']])\n",
    "            samples.append((sample_text, labels[i].item(), predicted[i].item()))\n",
    "\n",
    "    return samples\n",
    "\n"
   ]
  },
  {
   "cell_type": "code",
   "execution_count": 24,
   "id": "32c5075e-31a1-4c29-9322-8c62c1db6387",
   "metadata": {
    "tags": []
   },
   "outputs": [],
   "source": [
    "def display_samples(samples,n):\n",
    "    # Print the first 10 items\n",
    "    for i in range(min(n, len(samples))):  # Ensure not to exceed the list length\n",
    "        sample_text, true_label, pred_label = samples[i]\n",
    "        print(f\"Sample Text: {sample_text}\\nPredicted Label: {true_label} (True Label), {pred_label} (Predicted Label)\\n\")\n"
   ]
  },
  {
   "cell_type": "code",
   "execution_count": 25,
   "id": "534f0220",
   "metadata": {
    "tags": []
   },
   "outputs": [],
   "source": [
    "samples = sample_text(rnn_model, test_loader)"
   ]
  },
  {
   "cell_type": "code",
   "execution_count": 26,
   "id": "9c306e30-5f5b-47e4-a69a-a18d4d49e4cb",
   "metadata": {
    "tags": []
   },
   "outputs": [
    {
     "name": "stdout",
     "output_type": "stream",
     "text": [
      "Sample Text: 14 palestinian militants killed in gaza gaza city , gaza strip sept . 7 , 2004 - israeli helicopters attacked a hamas training camp early tuesday , killing at least 14 militants and wounding 30 others in one of the deadliest airstrikes since fighting broke out four years ago .\n",
      "Predicted Label: 0 (True Label), 0 (Predicted Label)\n",
      "\n",
      "Sample Text: cards all hearts ten outs away from winter , knowing a ride was about to hit the runway way too soon . ten outs away from winter , and the st .\n",
      "Predicted Label: 1 (True Label), 3 (Predicted Label)\n",
      "\n",
      "Sample Text: viacom may pay sirius \\$ howard howard stern hinted broadly yesterday that he might continue his involvement with viacom after he switches to satellite radio in 15 months .\n",
      "Predicted Label: 2 (True Label), 2 (Predicted Label)\n",
      "\n",
      "Sample Text: salesforce . com launches on-demand support system on-demand crm provider salesforce . com wednesday rolled out a parallel service its calling support . com and aiming at corporations with far-flung call centers , help desks , and on-call technicians .\n",
      "Predicted Label: 3 (True Label), 3 (Predicted Label)\n",
      "\n",
      "Sample Text: carnival crowds likely to top 1m as the notting hill carnival enters its final day , police say they are pleased with how it has gone so far . about 250 , 000 people took to the streets on sunday - more than double the first day last year -\n",
      "Predicted Label: 0 (True Label), 0 (Predicted Label)\n",
      "\n"
     ]
    }
   ],
   "source": [
    "display_samples(samples,5)"
   ]
  },
  {
   "cell_type": "markdown",
   "id": "d92ab348-2db5-46e9-93f9-0923b2a8341a",
   "metadata": {},
   "source": [
    "## Confusion Matrix\n",
    "\n",
    "In this section, we delve into evaluating the accuracy of our model using a confusion matrix. This process begins by having the model predict categories for a collection of texts, where we record both the model's predictions and the actual, correct categories. These predictions are then used to construct a confusion matrix. This matrix is presented as a heatmap, making it easy to identify patterns and anomalies in the model's performance. \n"
   ]
  },
  {
   "cell_type": "code",
   "execution_count": 27,
   "id": "b07b41d9-8df4-4a21-b555-621538aff50f",
   "metadata": {
    "tags": []
   },
   "outputs": [],
   "source": [
    "def get_predictions(model, loader):\n",
    "    model.eval()\n",
    "    true_labels = []\n",
    "    predicted_labels = []\n",
    "\n",
    "    with torch.no_grad():\n",
    "        for X, Y in loader:\n",
    "            preds = model(X)\n",
    "            _, predicted = torch.max(preds, 1)\n",
    "            true_labels.extend(Y.tolist())\n",
    "            predicted_labels.extend(predicted.tolist())\n",
    "\n",
    "    return true_labels, predicted_labels"
   ]
  },
  {
   "cell_type": "code",
   "execution_count": 28,
   "id": "7f5b41e7-538b-49d9-9931-73b99783b104",
   "metadata": {
    "tags": []
   },
   "outputs": [],
   "source": [
    "def plot_confusion_matrix(true_labels, predicted_labels, classes):\n",
    "    # Compute the confusion matrix\n",
    "    cm = confusion_matrix(true_labels, predicted_labels)\n",
    "    \n",
    "    # Plot the confusion matrix\n",
    "    plt.figure(figsize=(10, 8))\n",
    "    sns.heatmap(cm, annot=True, fmt='d', cmap='Blues', xticklabels=classes, yticklabels=classes)\n",
    "    plt.xlabel('Predicted Label')\n",
    "    plt.ylabel('True Label')\n",
    "    plt.title('Confusion Matrix')\n",
    "    plt.show()"
   ]
  },
  {
   "cell_type": "code",
   "execution_count": 29,
   "id": "0f90b446-42b7-47fd-8827-783947315f7e",
   "metadata": {
    "tags": []
   },
   "outputs": [],
   "source": [
    "# Get predictions\n",
    "true_labels, predicted_labels = get_predictions(rnn_model, test_loader)"
   ]
  },
  {
   "cell_type": "code",
   "execution_count": 30,
   "id": "e7d73f69",
   "metadata": {
    "tags": []
   },
   "outputs": [
    {
     "data": {
      "image/png": "[encoded data removed]",
      "text/plain": [
       "<Figure size 1000x800 with 2 Axes>"
      ]
     },
     "metadata": {},
     "output_type": "display_data"
    }
   ],
   "source": [
    "# Plot confusion matrix\n",
    "plot_confusion_matrix(true_labels, predicted_labels, labels)\n"
   ]
  },
  {
   "cell_type": "markdown",
   "id": "6960eacb-a727-4c10-8b7a-c645335ec22a",
   "metadata": {},
   "source": []
  }
 ],
 "metadata": {
  "kernelspec": {
   "display_name": "Python 3 (ipykernel)",
   "language": "python",
   "name": "python3"
  },
  "language_info": {
   "codemirror_mode": {
    "name": "ipython",
    "version": 3
   },
   "file_extension": ".py",
   "mimetype": "text/x-python",
   "name": "python",
   "nbconvert_exporter": "python",
   "pygments_lexer": "ipython3",
   "version": "3.11.4"
  },
  "varInspector": {
   "cols": {
    "lenName": 16,
    "lenType": 16,
    "lenVar": 40
   },
   "kernels_config": {
    "python": {
     "delete_cmd_postfix": "",
     "delete_cmd_prefix": "del ",
     "library": "var_list.py",
     "varRefreshCmd": "print(var_dic_list())"
    },
    "r": {
     "delete_cmd_postfix": ") ",
     "delete_cmd_prefix": "rm(",
     "library": "var_list.r",
     "varRefreshCmd": "cat(var_dic_list()) "
    }
   },
   "types_to_exclude": [
    "module",
    "function",
    "builtin_function_or_method",
    "instance",
    "_Feature"
   ],
   "window_display": false
  }
 },
 "nbformat": 4,
 "nbformat_minor": 5
}
