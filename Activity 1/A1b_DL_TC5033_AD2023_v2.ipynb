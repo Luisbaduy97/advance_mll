{
 "cells": [
  {
   "cell_type": "markdown",
   "metadata": {},
   "source": [
    "# TC 5033\n",
    "## Deep Learning\n",
    "## Fully Connected Deep Neural Networks\n",
    "\n",
    "## Team #\n",
    "#### * Elmer Payro Costilla -           A01014943\n",
    "#### * Christopher Valdez Cantú -      A01793549\n",
    "#### * José Francisco Muñoz del Ángel - A01794174\n",
    "#### * Luis José Navarrete Baduy -     A01793919\n",
    "\n",
    "## Activity 1b: Implementing a Fully Connected Network for Kaggle ASL Dataset\n",
    "\n",
    "- Objective\n",
    "\n",
    "The aim of this part of the activity is to apply your understanding of Fully Connected Networks by implementing a multilayer network for the [Kaggle ASL (American Sign Language) dataset](https://www.kaggle.com/datasets/grassknoted/asl-alphabet). While you have been provided with a complete solution for a Fully Connected Network using Numpy for the MNIST dataset, you are encouraged to try to come up with the solution.\n",
    "\n",
    "- Instructions\n",
    "\n",
    "    This activity requires submission in teams of 3 or 4 members. Submissions from smaller or larger teams will not be accepted unless prior approval has been granted (only due to exceptional circumstances). While teamwork is encouraged, each member is expected to contribute individually to the assignment. The final submission should feature the best arguments and solutions from each team member. Only one person per team needs to submit the completed work, but it is imperative that the names of all team members are listed in a Markdown cell at the very beginning of the notebook (either the first or second cell). Failure to include all team member names will result in the grade being awarded solely to the individual who submitted the assignment, with zero points given to other team members (no exceptions will be made to this rule).\n",
    "\n",
    "    Load and Preprocess Data: You are provided a starter code to load the data. Be sure to understand the code.\n",
    "\n",
    "    Review MNIST Notebook (Optional): Before diving into this activity, you have the option to revisit the MNIST example to refresh your understanding of how to build a Fully Connected Network using Numpy.\n",
    "\n",
    "    Start Fresh: Although you can refer to the MNIST solution at any point, try to implement the network for the ASL dataset on your own. This will reinforce your learning and understanding of the architecture and mathematics involved.\n",
    "\n",
    "    Implement Forward and Backward Pass: Write the code to perform the forward and backward passes, keeping in mind the specific challenges and characteristics of the ASL dataset.\n",
    "    \n",
    "     Design the Network: Create the architecture of the Fully Connected Network tailored for the ASL dataset. Choose the number of hidden layers, neurons, and hyperparameters judiciously.\n",
    "\n",
    "    Train the Model: Execute the training loop, ensuring to track performance metrics such as loss and accuracy.\n",
    "\n",
    "    Analyze and Document: Use Markdown cells to document in detail the choices you made in terms of architecture and hyperparameters, you may use figures, equations, etc to aid in your explanations. Include any metrics that help justify these choices and discuss the model's performance.  \n",
    "\n",
    "- Evaluation Criteria\n",
    "\n",
    "    - Code Readability and Comments\n",
    "    - Appropriateness of chosen architecture and hyperparameters for the ASL dataset\n",
    "    - Performance of the model on the ASL dataset (at least 70% acc)\n",
    "    - Quality of Markdown documentation\n",
    "\n",
    "- Submission\n",
    "\n",
    "Submit this Jupyter Notebook in canvas with your complete solution, ensuring your code is well-commented and includes Markdown cells that explain your design choices, results, and any challenges you encountered.\n"
   ]
  },
  {
   "cell_type": "markdown",
   "metadata": {},
   "source": [
    "## Introduction\n",
    "This project involves designing a Fully Connected Neural Network to classify signs from the ASL dataset. We aim to achieve a balance between model complexity and performance."
   ]
  },
  {
   "cell_type": "code",
   "execution_count": 1,
   "metadata": {
    "tags": []
   },
   "outputs": [],
   "source": [
    "import numpy as np\n",
    "import string\n",
    "import pandas as pd\n",
    "import matplotlib.pyplot as plt\n",
    "#import cv2 as cv\n",
    "import os\n",
    "\n",
    "%load_ext autoreload\n",
    "%autoreload 2\n",
    "#################################\n",
    "%matplotlib inline\n"
   ]
  },
  {
   "cell_type": "code",
   "execution_count": 2,
   "metadata": {
    "tags": []
   },
   "outputs": [],
   "source": [
    "# Define the path to the directory containing the CSV data files\n",
    "DATA_PATH = 'asl_data'\n",
    "\n",
    "# Load the training data from the 'sign_mnist_train.csv' CSV file\n",
    "train_df = pd.read_csv('sign_mnist_train.csv')\n",
    "\n",
    "# Load the validation data from the 'sign_mnist_valid.csv' CSV file\n",
    "valid_df = pd.read_csv('sign_mnist_valid.csv')\n"
   ]
  },
  {
   "cell_type": "code",
   "execution_count": 3,
   "metadata": {
    "tags": []
   },
   "outputs": [
    {
     "data": {
      "text/html": [
       "<div>\n",
       "<style scoped>\n",
       "    .dataframe tbody tr th:only-of-type {\n",
       "        vertical-align: middle;\n",
       "    }\n",
       "\n",
       "    .dataframe tbody tr th {\n",
       "        vertical-align: top;\n",
       "    }\n",
       "\n",
       "    .dataframe thead th {\n",
       "        text-align: right;\n",
       "    }\n",
       "</style>\n",
       "<table border=\"1\" class=\"dataframe\">\n",
       "  <thead>\n",
       "    <tr style=\"text-align: right;\">\n",
       "      <th></th>\n",
       "      <th>label</th>\n",
       "      <th>pixel1</th>\n",
       "      <th>pixel2</th>\n",
       "      <th>pixel3</th>\n",
       "      <th>pixel4</th>\n",
       "      <th>pixel5</th>\n",
       "      <th>pixel6</th>\n",
       "      <th>pixel7</th>\n",
       "      <th>pixel8</th>\n",
       "      <th>pixel9</th>\n",
       "      <th>...</th>\n",
       "      <th>pixel775</th>\n",
       "      <th>pixel776</th>\n",
       "      <th>pixel777</th>\n",
       "      <th>pixel778</th>\n",
       "      <th>pixel779</th>\n",
       "      <th>pixel780</th>\n",
       "      <th>pixel781</th>\n",
       "      <th>pixel782</th>\n",
       "      <th>pixel783</th>\n",
       "      <th>pixel784</th>\n",
       "    </tr>\n",
       "  </thead>\n",
       "  <tbody>\n",
       "    <tr>\n",
       "      <th>0</th>\n",
       "      <td>3</td>\n",
       "      <td>107</td>\n",
       "      <td>118</td>\n",
       "      <td>127</td>\n",
       "      <td>134</td>\n",
       "      <td>139</td>\n",
       "      <td>143</td>\n",
       "      <td>146</td>\n",
       "      <td>150</td>\n",
       "      <td>153</td>\n",
       "      <td>...</td>\n",
       "      <td>207</td>\n",
       "      <td>207</td>\n",
       "      <td>207</td>\n",
       "      <td>207</td>\n",
       "      <td>206</td>\n",
       "      <td>206</td>\n",
       "      <td>206</td>\n",
       "      <td>204</td>\n",
       "      <td>203</td>\n",
       "      <td>202</td>\n",
       "    </tr>\n",
       "    <tr>\n",
       "      <th>1</th>\n",
       "      <td>6</td>\n",
       "      <td>155</td>\n",
       "      <td>157</td>\n",
       "      <td>156</td>\n",
       "      <td>156</td>\n",
       "      <td>156</td>\n",
       "      <td>157</td>\n",
       "      <td>156</td>\n",
       "      <td>158</td>\n",
       "      <td>158</td>\n",
       "      <td>...</td>\n",
       "      <td>69</td>\n",
       "      <td>149</td>\n",
       "      <td>128</td>\n",
       "      <td>87</td>\n",
       "      <td>94</td>\n",
       "      <td>163</td>\n",
       "      <td>175</td>\n",
       "      <td>103</td>\n",
       "      <td>135</td>\n",
       "      <td>149</td>\n",
       "    </tr>\n",
       "    <tr>\n",
       "      <th>2</th>\n",
       "      <td>2</td>\n",
       "      <td>187</td>\n",
       "      <td>188</td>\n",
       "      <td>188</td>\n",
       "      <td>187</td>\n",
       "      <td>187</td>\n",
       "      <td>186</td>\n",
       "      <td>187</td>\n",
       "      <td>188</td>\n",
       "      <td>187</td>\n",
       "      <td>...</td>\n",
       "      <td>202</td>\n",
       "      <td>201</td>\n",
       "      <td>200</td>\n",
       "      <td>199</td>\n",
       "      <td>198</td>\n",
       "      <td>199</td>\n",
       "      <td>198</td>\n",
       "      <td>195</td>\n",
       "      <td>194</td>\n",
       "      <td>195</td>\n",
       "    </tr>\n",
       "    <tr>\n",
       "      <th>3</th>\n",
       "      <td>2</td>\n",
       "      <td>211</td>\n",
       "      <td>211</td>\n",
       "      <td>212</td>\n",
       "      <td>212</td>\n",
       "      <td>211</td>\n",
       "      <td>210</td>\n",
       "      <td>211</td>\n",
       "      <td>210</td>\n",
       "      <td>210</td>\n",
       "      <td>...</td>\n",
       "      <td>235</td>\n",
       "      <td>234</td>\n",
       "      <td>233</td>\n",
       "      <td>231</td>\n",
       "      <td>230</td>\n",
       "      <td>226</td>\n",
       "      <td>225</td>\n",
       "      <td>222</td>\n",
       "      <td>229</td>\n",
       "      <td>163</td>\n",
       "    </tr>\n",
       "    <tr>\n",
       "      <th>4</th>\n",
       "      <td>12</td>\n",
       "      <td>164</td>\n",
       "      <td>167</td>\n",
       "      <td>170</td>\n",
       "      <td>172</td>\n",
       "      <td>176</td>\n",
       "      <td>179</td>\n",
       "      <td>180</td>\n",
       "      <td>184</td>\n",
       "      <td>185</td>\n",
       "      <td>...</td>\n",
       "      <td>92</td>\n",
       "      <td>105</td>\n",
       "      <td>105</td>\n",
       "      <td>108</td>\n",
       "      <td>133</td>\n",
       "      <td>163</td>\n",
       "      <td>157</td>\n",
       "      <td>163</td>\n",
       "      <td>164</td>\n",
       "      <td>179</td>\n",
       "    </tr>\n",
       "  </tbody>\n",
       "</table>\n",
       "<p>5 rows × 785 columns</p>\n",
       "</div>"
      ],
      "text/plain": [
       "   label  pixel1  pixel2  pixel3  pixel4  pixel5  pixel6  pixel7  pixel8  \\\n",
       "0      3     107     118     127     134     139     143     146     150   \n",
       "1      6     155     157     156     156     156     157     156     158   \n",
       "2      2     187     188     188     187     187     186     187     188   \n",
       "3      2     211     211     212     212     211     210     211     210   \n",
       "4     12     164     167     170     172     176     179     180     184   \n",
       "\n",
       "   pixel9  ...  pixel775  pixel776  pixel777  pixel778  pixel779  pixel780  \\\n",
       "0     153  ...       207       207       207       207       206       206   \n",
       "1     158  ...        69       149       128        87        94       163   \n",
       "2     187  ...       202       201       200       199       198       199   \n",
       "3     210  ...       235       234       233       231       230       226   \n",
       "4     185  ...        92       105       105       108       133       163   \n",
       "\n",
       "   pixel781  pixel782  pixel783  pixel784  \n",
       "0       206       204       203       202  \n",
       "1       175       103       135       149  \n",
       "2       198       195       194       195  \n",
       "3       225       222       229       163  \n",
       "4       157       163       164       179  \n",
       "\n",
       "[5 rows x 785 columns]"
      ]
     },
     "execution_count": 3,
     "metadata": {},
     "output_type": "execute_result"
    }
   ],
   "source": [
    "# Display the first few rows of the training data DataFrame\n",
    "train_df.head()"
   ]
  },
  {
   "cell_type": "markdown",
   "metadata": {},
   "source": [
    "### Importar Images"
   ]
  },
  {
   "cell_type": "code",
   "execution_count": 4,
   "metadata": {
    "tags": []
   },
   "outputs": [],
   "source": [
    "# Extract the labels for training data from the 'label' column\n",
    "y_train = np.array(train_df['label'])\n",
    "\n",
    "# Extract the labels for validation data from the 'label' column\n",
    "yv = np.array(valid_df['label'])\n",
    "\n",
    "# Extract the features for training data by removing the 'label' column and converting to NumPy array \n",
    "x_train = train_df.drop(columns=['label']).values.astype(np.float32)\n",
    "\n",
    "# Extract the features for validation data by removing the 'label' column and converting to NumPy array\n",
    "xv = valid_df.drop(columns=['label']).values.astype(np.float32)\n"
   ]
  },
  {
   "cell_type": "code",
   "execution_count": 5,
   "metadata": {
    "tags": []
   },
   "outputs": [],
   "source": [
    "# Remove the 'label' column from the training DataFrame\n",
    "del train_df['label']\n",
    "# Remove the 'label' column from the validation DataFrame\n",
    "del valid_df['label']"
   ]
  },
  {
   "cell_type": "code",
   "execution_count": 6,
   "metadata": {
    "tags": []
   },
   "outputs": [
    {
     "name": "stdout",
     "output_type": "stream",
     "text": [
      "(7172, 784)\n"
     ]
    },
    {
     "data": {
      "text/plain": [
       "3586"
      ]
     },
     "execution_count": 6,
     "metadata": {},
     "output_type": "execute_result"
    }
   ],
   "source": [
    "print(xv.shape)\n",
    "round(xv.shape[0]*.5)"
   ]
  },
  {
   "cell_type": "code",
   "execution_count": 7,
   "metadata": {
    "code_folding": [],
    "tags": []
   },
   "outputs": [],
   "source": [
    "def split_val_test(x, y, pct=0.6, shuffle=False):\n",
    "    '''\n",
    "    Create a function that will allow you to split the previously loaded validation set\n",
    "    into valition and test.\n",
    "    '''\n",
    "    cutoff = round(x.shape[0] * pct)    \n",
    "    if shuffle:\n",
    "        np.random.shuffle(x) # Shuffle the input features fixme\n",
    "        np.random.shuffle(y) # Shuffle the target labels\n",
    "    # Split the data into training and validation sets\n",
    "    return x[:cutoff],y[:cutoff],x[cutoff:],y[cutoff:]"
   ]
  },
  {
   "cell_type": "code",
   "execution_count": 8,
   "metadata": {
    "tags": []
   },
   "outputs": [],
   "source": [
    "# Split the validation data (xv, yv) into validation and test sets using the split_val_test function\n",
    "x_val, y_val, x_test, y_test = split_val_test(xv, yv)"
   ]
  },
  {
   "cell_type": "code",
   "execution_count": 9,
   "metadata": {
    "tags": []
   },
   "outputs": [
    {
     "name": "stdout",
     "output_type": "stream",
     "text": [
      "(4303, 784)\n",
      "(2869, 784)\n"
     ]
    }
   ],
   "source": [
    "print(x_val.shape)\n",
    "print(x_test.shape)"
   ]
  },
  {
   "cell_type": "markdown",
   "metadata": {},
   "source": [
    "### Normalise"
   ]
  },
  {
   "cell_type": "code",
   "execution_count": 10,
   "metadata": {
    "tags": []
   },
   "outputs": [
    {
     "data": {
      "text/plain": [
       "(159.29083, 48.76953, 0.0)"
      ]
     },
     "execution_count": 10,
     "metadata": {},
     "output_type": "execute_result"
    }
   ],
   "source": [
    "x_train.mean(), x_train.std(), x_train.min()"
   ]
  },
  {
   "cell_type": "code",
   "execution_count": 11,
   "metadata": {
    "tags": []
   },
   "outputs": [],
   "source": [
    "def normalize(x_mean, x_std, x_data):\n",
    "    '''\n",
    "    Normalize a dataset using mean and standard deviation.\n",
    "    \n",
    "    Parameters:\n",
    "    - x_mean: Mean of the dataset.\n",
    "    - x_std: Standard deviation of the dataset.\n",
    "    - x_data: Data to be normalized.\n",
    "    \n",
    "    Returns:\n",
    "    - Normalized data.\n",
    "    '''\n",
    "    return (x_data - x_mean) / x_std"
   ]
  },
  {
   "cell_type": "code",
   "execution_count": 12,
   "metadata": {
    "tags": []
   },
   "outputs": [],
   "source": [
    "# Calculate the mean and standard deviation of the training data\n",
    "x_mean = x_train.mean()\n",
    "x_std = x_train.std()\n",
    "\n",
    "# Normalize the training data using the calculated mean and standard deviation\n",
    "x_train = normalize(x_mean, x_std, x_train)\n",
    "\n",
    "# Normalize the validation data using the same mean and standard deviation as the training data\n",
    "x_val = normalize(x_mean, x_std, x_val)\n",
    "\n",
    "# Normalize the test data using the same mean and standard deviation as the training data\n",
    "x_test = normalize(x_mean, x_std, x_test)"
   ]
  },
  {
   "cell_type": "code",
   "execution_count": 13,
   "metadata": {
    "tags": []
   },
   "outputs": [
    {
     "data": {
      "text/plain": [
       "(3.6268384e-06, 0.99999946)"
      ]
     },
     "execution_count": 13,
     "metadata": {},
     "output_type": "execute_result"
    }
   ],
   "source": [
    "x_train.mean(), x_train.std()"
   ]
  },
  {
   "cell_type": "markdown",
   "metadata": {},
   "source": [
    "### Graficar muestras"
   ]
  },
  {
   "cell_type": "code",
   "execution_count": 14,
   "metadata": {
    "tags": []
   },
   "outputs": [],
   "source": [
    "def plot_number(image):\n",
    "    '''\n",
    "    Plot a grayscale image.\n",
    "\n",
    "    Parameters:\n",
    "    - image: The image data to be plotted.\n",
    "\n",
    "    Displays the input image as a grayscale plot with no axis.\n",
    "    '''\n",
    "    plt.figure(figsize=(4,4))\n",
    "    plt.imshow(image.reshape(28,28), cmap='gray')\n",
    "    plt.axis('off')\n",
    "    plt.show()"
   ]
  },
  {
   "cell_type": "code",
   "execution_count": 18,
   "metadata": {
    "tags": []
   },
   "outputs": [
    {
     "name": "stdout",
     "output_type": "stream",
     "text": [
      "La imagen muestreada representa un: 12\n"
     ]
    },
    {
     "data": {
      "image/png": "[encoded data removed]",
      "text/plain": [
       "<Figure size 400x400 with 1 Axes>"
      ]
     },
     "metadata": {},
     "output_type": "display_data"
    }
   ],
   "source": [
    "# Generate a random index within the length of the test labels (y_test)\n",
    "rnd_idx = np.random.randint(len(y_test))\n",
    "\n",
    "# Print the label of the randomly selected image from the test set\n",
    "print(f'La imagen muestreada representa un: {y_test[rnd_idx]}')\n",
    "\n",
    "# Plot the randomly selected image using the plot_number function\n",
    "plot_number(xv[rnd_idx])"
   ]
  },
  {
   "cell_type": "markdown",
   "metadata": {},
   "source": [
    "### Ecuaciones para nuestro modelo\n",
    "\n",
    "\n",
    "$$z^1 = W^1 X + b^1$$\n",
    "\n",
    "$$a^1 = ReLU(z^1) $$\n",
    "\n",
    "$$z^2 = W^2 a^1 + b^2$$\n",
    "\n",
    "$$\\hat{y} = \\frac{e^{z^{2_k}}}{\\sum_j{e^{z_j}}}$$\n",
    "\n",
    "\n",
    "$$ \\mathcal{L}(\\hat{y}^{i}, y^{i}) =  - y^{i}  \\ln(\\hat{y}^{i}) = -\\ln(\\hat{y}^i)$$\n",
    "\n",
    "\n",
    "$$ \\mathcal{J}(w, b) =  \\frac{1}{num\\_samples} \\sum_{i=1}^{num\\_samples}-\\ln(\\hat{y}^{i})$$"
   ]
  },
  {
   "cell_type": "markdown",
   "metadata": {},
   "source": [
    "### Funciones adicionales"
   ]
  },
  {
   "cell_type": "markdown",
   "metadata": {},
   "source": [
    "#### Mini batches"
   ]
  },
  {
   "cell_type": "code",
   "execution_count": 20,
   "metadata": {
    "tags": []
   },
   "outputs": [],
   "source": [
    "def create_minibatches(mb_size, x, y, shuffle = True):\n",
    "    '''\n",
    "    Create minibatches from the input data for mini-batch training.\n",
    "\n",
    "    Parameters:\n",
    "    - mb_size: Size of each minibatch.\n",
    "    - x: Input features.\n",
    "    - y: Target labels.\n",
    "    - shuffle: Whether to shuffle the data before creating minibatches (default is True).\n",
    "\n",
    "    Returns:\n",
    "    - A generator that yields minibatches of data.\n",
    "    '''\n",
    "    assert x.shape[0] == y.shape[0], 'Error en cantidad de muestras'\n",
    "    total_data = x.shape[0]  # Total number of data samples\n",
    "    \n",
    "    if shuffle:\n",
    "        idxs = np.arange(total_data)  # Create an array of indices from 0 to total_data\n",
    "        np.random.shuffle(idxs)      # Shuffle the indices\n",
    "        x = x[idxs]                  # Shuffle the input features based on shuffled indices\n",
    "        y = y[idxs]                  # Shuffle the target labels based on shuffled indices\n",
    "    \n",
    "    # Create and return a generator that yields minibatches\n",
    "    return ((x[i:i+mb_size], y[i:i+mb_size]) for i in range(0, total_data, mb_size))"
   ]
  },
  {
   "cell_type": "code",
   "execution_count": 21,
   "metadata": {
    "tags": []
   },
   "outputs": [],
   "source": [
    "class np_tensor(np.ndarray): pass"
   ]
  },
  {
   "cell_type": "markdown",
   "metadata": {},
   "source": [
    "## Nuestra clase Linear, ReLU y Sequential"
   ]
  },
  {
   "cell_type": "markdown",
   "metadata": {},
   "source": [
    "###  Clase Linear"
   ]
  },
  {
   "cell_type": "code",
   "execution_count": 22,
   "metadata": {
    "tags": []
   },
   "outputs": [],
   "source": [
    "class Linear():\n",
    "    def __init__(self, input_size, output_size):\n",
    "        '''\n",
    "        Initialize parameters using Kaiming He initialization.\n",
    "        \n",
    "        Parameters:\n",
    "        - input_size: Number of input features.\n",
    "        - output_size: Number of output features (neurons).\n",
    "        '''\n",
    "        # Initialize weights (self.W) using Kaiming He initialization\n",
    "        self.W = (np.random.randn(output_size, input_size) / np.sqrt(input_size/2)).view(np_tensor)\n",
    "        \n",
    "        # Initialize biases (self.b) as zeros\n",
    "        self.b = (np.zeros((output_size, 1))).view(np_tensor)\n",
    "    \n",
    "    def __call__(self, X):\n",
    "        '''\n",
    "        Forward pass of the linear layer.\n",
    "\n",
    "        Parameters:\n",
    "        - X: Input data.\n",
    "\n",
    "        Returns:\n",
    "        - Z: The linear transformation result.\n",
    "        '''\n",
    "        Z = self.W @ X + self.b  # Compute the linear transformation\n",
    "        return Z\n",
    "    \n",
    "    def backward(self, X, Z):\n",
    "        '''\n",
    "        Backward pass of the linear layer.\n",
    "\n",
    "        Parameters:\n",
    "        - X: Input data.\n",
    "        - Z: Linear transformation result.\n",
    "\n",
    "        Performs backpropagation and updates gradients.\n",
    "        '''\n",
    "        # Compute the gradient of the input data\n",
    "        X.grad = self.W.T @ Z.grad\n",
    "        \n",
    "        # Compute the gradient of the weights\n",
    "        self.W.grad = Z.grad @ X.T\n",
    "        \n",
    "        # Compute the gradient of the biases\n",
    "        self.b.grad = np.sum(Z.grad, axis = 1, keepdims=True)"
   ]
  },
  {
   "cell_type": "markdown",
   "metadata": {},
   "source": [
    "### Clase ReLU"
   ]
  },
  {
   "cell_type": "code",
   "execution_count": 23,
   "metadata": {
    "tags": []
   },
   "outputs": [],
   "source": [
    "class ReLU():\n",
    "    def __call__(self, Z):\n",
    "        '''\n",
    "        Forward pass of the Rectified Linear Unit (ReLU) activation function.\n",
    "        '''\n",
    "        A = np.maximum(0, Z)  # Compute the ReLU activation function\n",
    "        return A\n",
    "    \n",
    "    def backward(self, Z, A):\n",
    "        '''\n",
    "        Backward pass of the Rectified Linear Unit (ReLU) activation function.\n",
    "        Performs backpropagation and updates gradients.\n",
    "        '''\n",
    "        Z.grad = A.grad.copy()  # Copy the gradient from the output\n",
    "        Z.grad[Z <= 0] = 0      # Zero out the gradient where input was <= 0 (derivative of ReLU)"
   ]
  },
  {
   "cell_type": "markdown",
   "metadata": {},
   "source": [
    "### Clase Sequential"
   ]
  },
  {
   "cell_type": "code",
   "execution_count": 24,
   "metadata": {
    "tags": []
   },
   "outputs": [],
   "source": [
    "class Sequential_layers():\n",
    "    def __init__(self, layers):\n",
    "        '''\n",
    "        Initialize a Sequential neural network model with a list of layers.\n",
    "\n",
    "        Parameters:\n",
    "        - layers: A list containing objects of types Linear and ReLU.\n",
    "        '''\n",
    "        self.layers = layers  # Store the list of layers\n",
    "        self.x = None         # Initialize input data (x) to None\n",
    "        self.outputs = {}     # Initialize a dictionary to store intermediate outputs\n",
    "\n",
    "    def __call__(self, X):\n",
    "        '''\n",
    "        Forward pass of the Sequential neural network model.\n",
    "\n",
    "        Parameters:\n",
    "        - X: Input data.\n",
    "\n",
    "        Returns:\n",
    "        - The final output of the model.\n",
    "        '''\n",
    "        self.x = X \n",
    "        self.outputs['l0'] = self.x  # Store the input data as 'l0' output\n",
    "        for i, layer in enumerate(self.layers, 1):\n",
    "            self.x = layer(self.x)  # Apply each layer in sequence\n",
    "            self.outputs['l'+str(i)]=self.x  # Store intermediate outputs\n",
    "        return self.x\n",
    "\n",
    "    def backward(self):\n",
    "        '''\n",
    "        Backward pass for the Sequential neural network model.\n",
    "\n",
    "        Performs backpropagation through the layers and updates gradients.\n",
    "        '''\n",
    "        for i in reversed(range(len(self.layers))):\n",
    "            self.layers[i].backward(self.outputs['l'+str(i)], self.outputs['l'+str(i+1)])\n",
    "\n",
    "    def update(self, learning_rate = 1e-3):\n",
    "        '''\n",
    "        Update the model's parameters using gradient descent.\n",
    "\n",
    "        Parameters:\n",
    "        - learning_rate: Learning rate for gradient descent (default is 1e-3).\n",
    "        '''\n",
    "        for layer in self.layers:\n",
    "            if isinstance(layer, ReLU): continue  # Skip ReLU layers\n",
    "            layer.W = layer.W - learning_rate * layer.W.grad  # Update weights\n",
    "            layer.b = layer.b - learning_rate * layer.b.grad  # Update biases\n",
    "\n",
    "    def predict(self, X):\n",
    "        '''\n",
    "        Make predictions using the model.\n",
    "\n",
    "        Parameters:\n",
    "        - X: Input data.\n",
    "\n",
    "        Returns:\n",
    "        - The predicted class label.\n",
    "        '''\n",
    "        return np.argmax(self.__call__(X))  # Return the class with the highest output"
   ]
  },
  {
   "cell_type": "markdown",
   "metadata": {},
   "source": [
    "### Cost Function"
   ]
  },
  {
   "cell_type": "code",
   "execution_count": 25,
   "metadata": {
    "tags": []
   },
   "outputs": [],
   "source": [
    "def softmaxXEntropy(x, y):\n",
    "    '''\n",
    "    Compute the softmax cross-entropy loss and gradients.\n",
    "\n",
    "    Parameters:\n",
    "    - x: Input scores or logits.\n",
    "    - y: Target labels.\n",
    "\n",
    "    Returns:\n",
    "    - preds: Predicted probabilities.\n",
    "    - cost: Softmax cross-entropy loss.\n",
    "    '''\n",
    "    batch_size = x.shape[1]  # Get the batch size\n",
    "    \n",
    "    # Compute the softmax probabilities for each class\n",
    "    exp_scores = np.exp(x)\n",
    "    probs = exp_scores / exp_scores.sum(axis = 0)\n",
    "    preds = probs.copy()  # Store the predicted probabilities\n",
    "    \n",
    "    # Compute the softmax cross-entropy loss\n",
    "    y_hat = probs[y.squeeze(), np.arange(batch_size)]\n",
    "    cost = np.sum(-np.log(y_hat)) / batch_size\n",
    "    \n",
    "    # Calculate gradients for backpropagation\n",
    "    probs[y.squeeze(), np.arange(batch_size)] -= 1  # dL/dx\n",
    "    x.grad = probs.copy()  # Store gradients\n",
    "    \n",
    "    return preds, cost"
   ]
  },
  {
   "cell_type": "markdown",
   "metadata": {},
   "source": [
    "### Loop de entrenamiento"
   ]
  },
  {
   "cell_type": "code",
   "execution_count": 26,
   "metadata": {
    "tags": []
   },
   "outputs": [],
   "source": [
    "def accuracy(x, y, mb_size, model):\n",
    "    '''\n",
    "    Compute the accuracy of a model on a given dataset.\n",
    "    '''\n",
    "    correct = 0  # Initialize the count of correctly predicted samples\n",
    "    total = 0    # Initialize the total number of samples\n",
    "    \n",
    "    # Iterate through mini-batches of data\n",
    "    for i, (x, y) in enumerate(create_minibatches(mb_size, x, y)):\n",
    "        # Make predictions using the model\n",
    "        pred = model(x.T.view(np_tensor))\n",
    "        \n",
    "        # Count the number of correctly predicted samples in the mini-batch\n",
    "        correct += np.sum(np.argmax(pred, axis=0) == y.squeeze())\n",
    "        \n",
    "        # Update the total number of samples\n",
    "        total += pred.shape[1]\n",
    "    \n",
    "    # Calculate and return the accuracy\n",
    "    return correct/total"
   ]
  },
  {
   "cell_type": "markdown",
   "metadata": {},
   "source": [
    "### Create your model and train it"
   ]
  },
  {
   "cell_type": "code",
   "execution_count": 27,
   "metadata": {
    "tags": []
   },
   "outputs": [
    {
     "data": {
      "text/plain": [
       "(27455, 784)"
      ]
     },
     "execution_count": 27,
     "metadata": {},
     "output_type": "execute_result"
    }
   ],
   "source": [
    "x_train.shape"
   ]
  },
  {
   "cell_type": "code",
   "execution_count": 28,
   "metadata": {
    "tags": []
   },
   "outputs": [],
   "source": [
    "def train(model, epochs, mb_size=128, learning_rate=1e-3):\n",
    "    '''\n",
    "    Train a neural network model using mini-batch gradient descent.\n",
    "\n",
    "    Parameters:\n",
    "    - model: The neural network model to be trained.\n",
    "    - epochs: Number of training epochs.\n",
    "    - mb_size: Mini-batch size for training (default is 128).\n",
    "    - learning_rate: Learning rate for gradient descent (default is 1e-3).\n",
    "    '''\n",
    "    for epoch in range(epochs):\n",
    "        for i, (x, y) in enumerate(create_minibatches(mb_size, x_train, y_train)):\n",
    "            # Forward pass to compute scores and cost\n",
    "            scores = model(x.T.view(np_tensor))\n",
    "            _, cost = softmaxXEntropy(scores, y)\n",
    "            \n",
    "            # Backward pass for gradient computation\n",
    "            model.backward()\n",
    "            \n",
    "            # Update model parameters using gradient descent\n",
    "            model.update(learning_rate)\n",
    "        \n",
    "        # Compute and print cost and accuracy for the current epoch\n",
    "        print(f'costo: {cost}, accuracy: {accuracy(x_val, y_val, mb_size, model)}')"
   ]
  },
  {
   "cell_type": "markdown",
   "metadata": {},
   "source": [
    "## Model Architectures\n"
   ]
  },
  {
   "cell_type": "markdown",
   "metadata": {},
   "source": [
    "# Hyperparameter Justification and Tuning\n",
    "\n",
    "In our experiments with the ASL dataset, we made several key decisions regarding the hyperparameters for our models. Below, we outline the rationale behind these choices and their impact on model performance.\n",
    "\n",
    "## Learning Rate\n",
    "- **Selected Value**: 1e-4\n",
    "- **Rationale**: A lower learning rate was chosen to ensure steady and stable convergence during training. We aimed to avoid oscillations or overshooting the minimum loss. This rate was found to be optimal after experimenting with higher values (e.g., 1e-3), which led to erratic loss during training, and lower values (e.g., 1e-5), which significantly slowed down the training process.\n",
    "\n",
    "## Mini-Batch Size\n",
    "- **Selected Value**: 512\n",
    "- **Rationale**: The mini-batch size was a compromise between computational efficiency and model performance. Larger batch sizes can lead to faster training but may converge to sharp minima, affecting the model's ability to generalize. A batch size of 512 was selected after comparing performance with smaller sizes (e.g., 128, 256), where we noticed improved training stability and speed without a significant impact on generalization.\n",
    "\n",
    "## Number of Epochs\n",
    "- **Selected Value**: 25\n",
    "- **Rationale**: The number of epochs for training was not fixed beforehand but was determined based on when the models started to show signs of convergence. We monitored the validation loss and accuracy to decide when to stop training, aiming to prevent overfitting.\n"
   ]
  },
  {
   "cell_type": "code",
   "execution_count": 64,
   "metadata": {
    "tags": []
   },
   "outputs": [],
   "source": [
    "# Set mini-batch size, learning rate, and number of training epochs\n",
    "learning_rate = 1e-4    # Learning rate for gradient descent\n",
    "mb_size = 512           # Mini-batch size\n",
    "epochs = 25"
   ]
  },
  {
   "cell_type": "markdown",
   "metadata": {},
   "source": [
    "### Model 1: Two Layers\n",
    "- **Architecture**: The first model comprised two layers (784-400-24). It was the simplest model aimed at establishing a baseline.\n",
    "- **Rationale**: A basic model to understand the dataset's complexity and how well simple features can classify the data."
   ]
  },
  {
   "cell_type": "code",
   "execution_count": 58,
   "metadata": {
    "tags": []
   },
   "outputs": [],
   "source": [
    "# Create a simpler neural network model for initial testing\n",
    "model_1 = Sequential_layers([\n",
    "    Linear(784, 400), ReLU(),       # Layer 1: 784 input features, 400 output features with ReLU activation\n",
    "    Linear(400, 24)                 # Layer 2: 400 input features, 24 output features\n",
    "])\n",
    "\n"
   ]
  },
  {
   "cell_type": "markdown",
   "metadata": {},
   "source": [
    "### Model 2: Three Layers\n",
    "- **Architecture**: The second model (784-400-400-24) added an additional layer to capture more complex patterns.\n",
    "- **Rationale**: To assess if a moderately complex model improves performance without significant overfitting.\n"
   ]
  },
  {
   "cell_type": "code",
   "execution_count": 59,
   "metadata": {
    "tags": []
   },
   "outputs": [],
   "source": [
    "model_2 = Sequential_layers([\n",
    "    Linear(784, 400), ReLU(),       # Layer 1: 784 input features, 400 output features with ReLU activation\n",
    "    Linear(400, 400), ReLU(),       # Layer 2: 400 input features, 400 output features with ReLU activation\n",
    "    Linear(400, 24)                 # Layer 3: 400 input features, 24 output features\n",
    "])\n"
   ]
  },
  {
   "cell_type": "markdown",
   "metadata": {},
   "source": [
    "### Model 3: Four Layers\n",
    "- **Architecture**: This model (784-400-400-400-24) introduced another layer, increasing depth further.\n",
    "- **Rationale**: To explore if deeper networks could better capture the intricate patterns in ASL signs.\n"
   ]
  },
  {
   "cell_type": "code",
   "execution_count": 60,
   "metadata": {
    "tags": []
   },
   "outputs": [],
   "source": [
    "# Create a neural network model with a sequential architecture\n",
    "model_3 = Sequential_layers([\n",
    "    Linear(784, 400), ReLU(),       # Layer 1: 784 input features, 400 output features with ReLU activation\n",
    "    Linear(400, 400), ReLU(),       # Layer 2: 400 input features, 400 output features with ReLU activation\n",
    "    Linear(400, 400), ReLU(),       # Layer 3: 400 input features, 400 output features with ReLU activation\n",
    "    Linear(400, 24)                 # Layer 4: 400 input features, 24 output features\n",
    "])\n",
    "\n",
    "           # Number of training epochs"
   ]
  },
  {
   "cell_type": "markdown",
   "metadata": {
    "tags": []
   },
   "source": [
    "### Model 4: Five Layers\n",
    "- **Architecture**: The most complex model (784-400-400-400-400-24) with five layers.\n",
    "- **Rationale**: To test the limits of performance improvement with depth and observe the onset of diminishing returns or overfitting.\n"
   ]
  },
  {
   "cell_type": "code",
   "execution_count": 61,
   "metadata": {
    "tags": []
   },
   "outputs": [],
   "source": [
    "model_4 = Sequential_layers([\n",
    "    Linear(784, 400), ReLU(),       # Layer 1: 784 input features, 400 output features with ReLU activation\n",
    "    Linear(400, 400), ReLU(),       # Layer 2: 400 input features, 400 output features with ReLU activation\n",
    "    Linear(400, 400), ReLU(),       # Layer 3: 400 input features, 400 output features with ReLU activation\n",
    "    Linear(400, 400), ReLU(),       # Layer 4: 400 input features, 400 output features with ReLU activation\n",
    "    Linear(400, 24)                 # Layer 5: 400 input features, 24 output features\n",
    "])\n"
   ]
  },
  {
   "cell_type": "markdown",
   "metadata": {},
   "source": [
    "### Test your model on Random data from your test set"
   ]
  },
  {
   "cell_type": "code",
   "execution_count": 62,
   "metadata": {
    "tags": []
   },
   "outputs": [],
   "source": [
    "def evaluate_test_set(model, x_test, y_test, mb_size):\n",
    "    test_accuracy = accuracy(x_test, y_test, mb_size, model)\n",
    "    print(f\"Test Set Accuracy: {test_accuracy * 100:.2f}%\")"
   ]
  },
  {
   "cell_type": "code",
   "execution_count": 65,
   "metadata": {
    "tags": []
   },
   "outputs": [
    {
     "name": "stdout",
     "output_type": "stream",
     "text": [
      "Training the model_1\n",
      "costo: 0.039299063366424865, accuracy: 0.7789914013478968\n",
      "costo: 0.03390606032682815, accuracy: 0.7806181733674181\n",
      "costo: 0.03273693790997594, accuracy: 0.7817801533813619\n",
      "costo: 0.027148317411430076, accuracy: 0.7808505693702068\n",
      "costo: 0.030620333914031315, accuracy: 0.7817801533813619\n",
      "costo: 0.03108725146074962, accuracy: 0.7820125493841505\n",
      "costo: 0.028032365540907694, accuracy: 0.7810829653729956\n",
      "costo: 0.026418954125329006, accuracy: 0.7815477573785731\n",
      "costo: 0.024351834964076023, accuracy: 0.7820125493841505\n",
      "costo: 0.02274192200835329, accuracy: 0.7829421333953056\n",
      "costo: 0.02311183212101322, accuracy: 0.7829421333953056\n",
      "costo: 0.021735576774286863, accuracy: 0.7808505693702068\n",
      "costo: 0.01987554011904599, accuracy: 0.7834069254008831\n",
      "costo: 0.020536076683140565, accuracy: 0.7808505693702068\n",
      "costo: 0.01768179227250192, accuracy: 0.7822449453869393\n",
      "costo: 0.01862400283533961, accuracy: 0.7827097373925168\n",
      "costo: 0.01975690993492333, accuracy: 0.7810829653729956\n",
      "costo: 0.017542491495135235, accuracy: 0.7822449453869393\n",
      "costo: 0.017970853618223523, accuracy: 0.7820125493841505\n",
      "costo: 0.015446829305834558, accuracy: 0.7817801533813619\n",
      "costo: 0.01783966635484966, accuracy: 0.7817801533813619\n",
      "costo: 0.013286584371923447, accuracy: 0.7810829653729956\n",
      "costo: 0.013848104852130167, accuracy: 0.7822449453869393\n",
      "costo: 0.012946781708097557, accuracy: 0.7822449453869393\n",
      "costo: 0.013149093324721967, accuracy: 0.7817801533813619\n",
      "Training the model_2\n",
      "costo: 0.893686640713575, accuracy: 0.5993492911921915\n",
      "costo: 0.5101608401246995, accuracy: 0.6976528003718336\n",
      "costo: 0.2748309790427769, accuracy: 0.7280966767371602\n",
      "costo: 0.18359498688462791, accuracy: 0.7480827329769928\n",
      "costo: 0.11084218103249661, accuracy: 0.7606321171275854\n",
      "costo: 0.0841079120515715, accuracy: 0.7706251452475017\n",
      "costo: 0.05578270146516665, accuracy: 0.7745758772949105\n",
      "costo: 0.055094224274806446, accuracy: 0.7706251452475017\n",
      "costo: 0.04185377359477651, accuracy: 0.7729491052753893\n",
      "costo: 0.03642256147284374, accuracy: 0.776899837322798\n",
      "costo: 0.030623805208599635, accuracy: 0.7775970253311643\n",
      "costo: 0.029329102855819997, accuracy: 0.7803857773646293\n",
      "costo: 0.026462888935585863, accuracy: 0.777829421333953\n",
      "costo: 0.020692275359041497, accuracy: 0.7789914013478968\n",
      "costo: 0.017019242972116648, accuracy: 0.7782942133395305\n",
      "costo: 0.016907148155468423, accuracy: 0.7789914013478968\n",
      "costo: 0.01568018763223476, accuracy: 0.7803857773646293\n",
      "costo: 0.012450912829672728, accuracy: 0.7796885893562631\n",
      "costo: 0.013404344534763576, accuracy: 0.7792237973506856\n",
      "costo: 0.012889014934368883, accuracy: 0.7803857773646293\n",
      "costo: 0.014514191774331569, accuracy: 0.7813153613757844\n",
      "costo: 0.01298366390146452, accuracy: 0.7810829653729956\n",
      "costo: 0.009164944407814181, accuracy: 0.7829421333953056\n",
      "costo: 0.011492519731313234, accuracy: 0.7820125493841505\n",
      "costo: 0.00961495918654309, accuracy: 0.7808505693702068\n",
      "Training the model_3\n",
      "costo: 0.8037862818823446, accuracy: 0.651405995816872\n",
      "costo: 0.35280156064234003, accuracy: 0.7148501045782013\n",
      "costo: 0.13630332616211457, accuracy: 0.7473855449686265\n",
      "costo: 0.0720219762811067, accuracy: 0.764815245177783\n",
      "costo: 0.05630449505064959, accuracy: 0.7734138972809668\n",
      "costo: 0.03843079097359283, accuracy: 0.7720195212642342\n",
      "costo: 0.028831871688836896, accuracy: 0.7757378573088543\n",
      "costo: 0.02503530085319825, accuracy: 0.777829421333953\n",
      "costo: 0.017987663853251786, accuracy: 0.7803857773646293\n",
      "costo: 0.0167470949915739, accuracy: 0.7834069254008831\n",
      "costo: 0.015097476867520108, accuracy: 0.7820125493841505\n",
      "costo: 0.010504630826302073, accuracy: 0.7878224494538694\n",
      "costo: 0.009843287408200136, accuracy: 0.7861956774343482\n",
      "costo: 0.010185516776708517, accuracy: 0.7834069254008831\n",
      "costo: 0.010140296691863403, accuracy: 0.7873576574482919\n",
      "costo: 0.006732157985989602, accuracy: 0.7892168254706019\n",
      "costo: 0.007874870754127907, accuracy: 0.7894492214733907\n",
      "costo: 0.006747203834285883, accuracy: 0.7903788054845456\n",
      "costo: 0.006249437229740968, accuracy: 0.7910759934929119\n",
      "costo: 0.007019321838072389, accuracy: 0.7915407854984894\n",
      "costo: 0.005337945636576528, accuracy: 0.7915407854984894\n",
      "costo: 0.006366016210998487, accuracy: 0.7915407854984894\n",
      "costo: 0.004926903506027863, accuracy: 0.7913083894957007\n",
      "costo: 0.004315040783531279, accuracy: 0.7915407854984894\n",
      "costo: 0.003963123111805526, accuracy: 0.7910759934929119\n",
      "Training the model_4\n",
      "costo: 0.7200458772267934, accuracy: 0.6395537996746457\n",
      "costo: 0.24430066615040336, accuracy: 0.7029979084359749\n",
      "costo: 0.09128714881240767, accuracy: 0.7332093887985127\n",
      "costo: 0.055039929310357914, accuracy: 0.7297234487566814\n",
      "costo: 0.031598236156050466, accuracy: 0.745061584940739\n",
      "costo: 0.02065968018509308, accuracy: 0.7511038810132465\n",
      "costo: 0.015295321389905471, accuracy: 0.7529630490355566\n",
      "costo: 0.014322648286756359, accuracy: 0.7534278410411341\n",
      "costo: 0.012077499858851372, accuracy: 0.7576109690913316\n",
      "costo: 0.009398494785302176, accuracy: 0.7617940971415291\n",
      "costo: 0.006743681605918886, accuracy: 0.7585405531024867\n",
      "costo: 0.005922082713304597, accuracy: 0.7592377411108528\n",
      "costo: 0.0071532690082889904, accuracy: 0.7594701371136416\n",
      "costo: 0.006541828427699722, accuracy: 0.7610969091331629\n",
      "costo: 0.004586610670367606, accuracy: 0.7631884731582617\n",
      "costo: 0.0050001383066485714, accuracy: 0.7631884731582617\n",
      "costo: 0.004001751042721419, accuracy: 0.7624912851498954\n",
      "costo: 0.004254678946488992, accuracy: 0.7638856611666279\n",
      "costo: 0.003700627534697599, accuracy: 0.7631884731582617\n",
      "costo: 0.003940858398494741, accuracy: 0.7655124331861491\n",
      "costo: 0.0031604729694480207, accuracy: 0.7664420171973042\n",
      "costo: 0.0038846717731637554, accuracy: 0.7678363932140367\n",
      "costo: 0.0023966000227416645, accuracy: 0.766674413200093\n",
      "costo: 0.0027914019603445207, accuracy: 0.767603997211248\n",
      "costo: 0.002430319736738715, accuracy: 0.768533581222403\n"
     ]
    }
   ],
   "source": [
    "# Training and evaluating the model 1\n",
    "print(\"Training the model_1\")\n",
    "train(model_1, epochs, mb_size, learning_rate)\n",
    "\n",
    "# Training and evaluating the model 2\n",
    "print(\"Training the model_2\")\n",
    "train(model_2, epochs, mb_size, learning_rate)\n",
    "\n",
    "\n",
    "# Training and evaluating the model 3\n",
    "print(\"Training the model_3\")\n",
    "train(model_3, epochs, mb_size, learning_rate)\n",
    "\n",
    "# Training and evaluating the model 4\n",
    "print(\"Training the model_4\")\n",
    "train(model_4, epochs, mb_size, learning_rate)"
   ]
  },
  {
   "cell_type": "markdown",
   "metadata": {},
   "source": [
    "### Test Set Accuracy\n",
    "\n",
    "- **Model 1**: 78.67% - A solid baseline performance, indicating effective learning with a simpler architecture.\n",
    "- **Model 2**: 79.16% - An improvement over Model 1, suggesting that the additional layer helped in capturing more complex features without overfitting.\n",
    "- **Model 3**: 79.33% - The highest accuracy achieved, indicating that a further increase in depth can marginally enhance the model's ability to classify the ASL dataset.\n",
    "- **Model 4**: 78.04% - A decrease in accuracy despite the increased complexity, suggesting potential overfitting or diminishing returns in adding more layers.\n",
    "\n"
   ]
  },
  {
   "cell_type": "code",
   "execution_count": 66,
   "metadata": {
    "tags": []
   },
   "outputs": [
    {
     "name": "stdout",
     "output_type": "stream",
     "text": [
      "Training the model 1\n",
      "Test Set Accuracy: 78.67%\n",
      "Training the model 2\n",
      "Test Set Accuracy: 79.16%\n",
      "Training the model 3\n",
      "Test Set Accuracy: 79.33%\n",
      "Training the model 4\n",
      "Test Set Accuracy: 78.04%\n"
     ]
    }
   ],
   "source": [
    "# Training and evaluating the simple model\n",
    "print(\"Training the model 1\")\n",
    "evaluate_test_set(model_1, x_test, y_test, mb_size)\n",
    "print(\"Training the model 2\")\n",
    "evaluate_test_set(model_2, x_test, y_test, mb_size)\n",
    "print(\"Training the model 3\")\n",
    "evaluate_test_set(model_3, x_test, y_test, mb_size)\n",
    "print(\"Training the model 3\")\n",
    "evaluate_test_set(model_4, x_test, y_test, mb_size)\n"
   ]
  },
  {
   "cell_type": "code",
   "execution_count": 46,
   "metadata": {
    "tags": []
   },
   "outputs": [
    {
     "name": "stdout",
     "output_type": "stream",
     "text": [
      "24\n"
     ]
    }
   ],
   "source": [
    "### Alphabet array to determine results\n",
    "\n",
    "alphabet=list(string.ascii_lowercase)\n",
    "alphabet.remove('j') # Not included in the photos\n",
    "alphabet.remove('z')\n",
    "print(len(alphabet))"
   ]
  },
  {
   "cell_type": "code",
   "execution_count": 69,
   "metadata": {
    "tags": []
   },
   "outputs": [
    {
     "data": {
      "image/png": "[encoded data removed]",
      "text/plain": [
       "<Figure size 400x400 with 1 Axes>"
      ]
     },
     "metadata": {},
     "output_type": "display_data"
    },
    {
     "name": "stdout",
     "output_type": "stream",
     "text": [
      "el valor predicho es: h el valor real es:h\n"
     ]
    }
   ],
   "source": [
    "idx = np.random.randint(len(y_test))\n",
    "plot_number(x_test[idx].reshape(28,28))\n",
    "pred = model_3.predict(x_test[idx].reshape(-1, 1))\n",
    "print(f'el valor predicho es: {alphabet[pred]} el valor real es:{alphabet[y_test[idx]]}')"
   ]
  },
  {
   "cell_type": "markdown",
   "metadata": {},
   "source": [
    "## Conclusions \n",
    "\n",
    "Our experimentation with four distinct neural network models of increasing complexity has yielded insightful results for the ASL dataset classification task:\n",
    "\n",
    "- **Model Performance**: The simplest model (Model 1) established a strong baseline, with an accuracy of 78.67%. As the complexity increased (Models 2 and 3), we observed a slight improvement in accuracy, peaking at 79.33% with Model 3. However, with Model 4, the most complex architecture, there was a little decrease in performance to 78.04%.\n",
    "\n",
    "- **Complexity vs. Performance Trade-off**: The results indicate that while additional layers can capture more complex features, there is a point beyond which further complexity does not necessarily translate into better performance. In fact, it can lead to overfitting, as suggested by the performance dip in Model 4.\n",
    "\n",
    "### Optimal Model Architecture\n",
    "Given the results, Model 3, with its four-layer architecture, appears to strike the best balance between model complexity and performance for this specific task. It marginally outperforms the simpler models while avoiding the overfitting pitfalls evident in the most complex model.\n"
   ]
  }
 ],
 "metadata": {
  "kernelspec": {
   "display_name": "Python 3 (ipykernel)",
   "language": "python",
   "name": "python3"
  },
  "language_info": {
   "codemirror_mode": {
    "name": "ipython",
    "version": 3
   },
   "file_extension": ".py",
   "mimetype": "text/x-python",
   "name": "python",
   "nbconvert_exporter": "python",
   "pygments_lexer": "ipython3",
   "version": "3.11.4"
  },
  "toc": {
   "base_numbering": 1,
   "nav_menu": {},
   "number_sections": true,
   "sideBar": true,
   "skip_h1_title": false,
   "title_cell": "Table of Contents",
   "title_sidebar": "Contents",
   "toc_cell": false,
   "toc_position": {},
   "toc_section_display": true,
   "toc_window_display": false
  },
  "varInspector": {
   "cols": {
    "lenName": 16,
    "lenType": 16,
    "lenVar": 40
   },
   "kernels_config": {
    "python": {
     "delete_cmd_postfix": "",
     "delete_cmd_prefix": "del ",
     "library": "var_list.py",
     "varRefreshCmd": "print(var_dic_list())"
    },
    "r": {
     "delete_cmd_postfix": ") ",
     "delete_cmd_prefix": "rm(",
     "library": "var_list.r",
     "varRefreshCmd": "cat(var_dic_list()) "
    }
   },
   "types_to_exclude": [
    "module",
    "function",
    "builtin_function_or_method",
    "instance",
    "_Feature"
   ],
   "window_display": false
  }
 },
 "nbformat": 4,
 "nbformat_minor": 4
}
